{
 "cells": [
  {
   "cell_type": "code",
   "execution_count": 1,
   "metadata": {},
   "outputs": [],
   "source": [
    "import os\n",
    "import urllib.request\n",
    "import json\n",
    "import pandas as pd \n",
    "import requests\n",
    "import datetime\n",
    "import csv\n",
    "import pandas as pd\n",
    "import numpy as np\n",
    "from datetime import date\n",
    "import warnings\n",
    "\n",
    "#To hide the warning while creating plots\n",
    "warnings.filterwarnings('ignore') "
   ]
  },
  {
   "cell_type": "markdown",
   "metadata": {},
   "source": [
    "## Identify one or more suitable web APIs\n",
    "\n",
    "<font color='red'><I><B>API - Air Quality Programmatic APIs</B></I></font>\n",
    "\n",
    "API chosen: https://aqicn.org/api/\n",
    "\n",
    "API Key : XXXXXXXXXXXXX"
   ]
  },
  {
   "cell_type": "code",
   "execution_count": 2,
   "metadata": {},
   "outputs": [],
   "source": [
    "API = \"/?token=XXXXXXXXXXXXX\"\n",
    "URL = \"https://api.waqi.info/feed/\""
   ]
  },
  {
   "cell_type": "markdown",
   "metadata": {},
   "source": [
    "<P>A brief about how the notebook will progress: \n",
    "    \n",
    "Initially, I started collecting data only city “Delhi” and it’s PM25 value. I have collected this data for a period of 17 days. After calling collecting the value I placed them in CSV file (table_delhi.csv) which is provided in the folder.\n",
    "\n",
    "As the purpose of the assignment was bigger than just to collect data. I have created this notebook that collects the data at any given point in time (please note: Only Current data, no historical data has been used). The API is being called and the further steps are explained in the consecutive sections.\n",
    "\n",
    "I have chosen the Air Quality Data for various places across the globe.\n",
    "</P>"
   ]
  },
  {
   "cell_type": "markdown",
   "metadata": {},
   "source": [
    "## Task 2: Collect data your chosen API(s)"
   ]
  },
  {
   "cell_type": "markdown",
   "metadata": {},
   "source": [
    "<b> Sample Data: </b>\n",
    "<pre>{\n",
    "   \"status\":\"ok\",\n",
    "   \"data\":{\n",
    "      \"aqi\":59,\n",
    "      \"idx\":5112,\n",
    "      \"attributions\":[\n",
    "         {\n",
    "            \"url\":\"http://www.eea.europa.eu/themes/air/\",\n",
    "            \"name\":\"European Environment Agency\",\n",
    "            \"logo\":\"Europe-EEA.png\"\n",
    "         },\n",
    "         {\n",
    "            \"url\":\"http://www.epa.ie/air/\",\n",
    "            \"name\":\"Ireland Environmental Protection Agency (EPA)\",\n",
    "            \"logo\":\"Ireland-EPA.png\"\n",
    "         },\n",
    "         {\n",
    "            \"url\":\"https://waqi.info/\",\n",
    "            \"name\":\"World Air Quality Index Project\"\n",
    "         }\n",
    "      ],\n",
    "      \"city\":{\n",
    "         \"geo\":[\n",
    "            53.3218816,\n",
    "            -6.2655052\n",
    "         ],\n",
    "         \"name\":\"Rathmines, Ireland\",\n",
    "         \"url\":\"https://aqicn.org/city/ireland/rathmines\"\n",
    "      },\n",
    "      \"dominentpol\":\"pm25\",\n",
    "      \"iaqi\":{\n",
    "         \"h\":{\n",
    "            \"v\":82\n",
    "         },\n",
    "         \"no2\":{\n",
    "            \"v\":7.3\n",
    "         },\n",
    "         \"o3\":{\n",
    "            \"v\":23\n",
    "         },\n",
    "         \"p\":{\n",
    "            \"v\":1029.1\n",
    "         },\n",
    "         \"pm10\":{\n",
    "            \"v\":18\n",
    "         },\n",
    "         \"pm25\":{\n",
    "            \"v\":59\n",
    "         },\n",
    "         \"so2\":{\n",
    "            \"v\":0.4\n",
    "         },\n",
    "         \"t\":{\n",
    "            \"v\":9.1\n",
    "         },\n",
    "         \"w\":{\n",
    "            \"v\":2.5\n",
    "         },\n",
    "         \"wg\":{\n",
    "            \"v\":8\n",
    "         }\n",
    "      },\n",
    "      \"time\":{\n",
    "         \"s\":\"2020-03-27 14:00:00\",\n",
    "         \"tz\":\"+00:00\",\n",
    "         \"v\":1585317600\n",
    "      },\n",
    "      \"debug\":{\n",
    "         \"sync\":\"2020-03-28T00:32:22+09:00\"\n",
    "      }\n",
    "   }\n",
    "}</pre>"
   ]
  },
  {
   "cell_type": "markdown",
   "metadata": {},
   "source": [
    "The above is a sample of the data that is returned by the API."
   ]
  },
  {
   "cell_type": "markdown",
   "metadata": {},
   "source": [
    "#### Downloading and Viewing the data"
   ]
  },
  {
   "cell_type": "markdown",
   "metadata": {},
   "source": [
    "<P>\n",
    "In the following section, I have created functions that collect the data also, find any errors that could have been written during an API call.\n",
    "    \n",
    "The array city contains all the places over which the comparison has been done. All the directories are attached with in this submission.\n",
    "\n",
    "As you can see there, is a separate variable ‘daily_city’. During the initial development of this assignment, I used to call my API only on one city and collect the corresponding PM25 value.\n",
    "</P>"
   ]
  },
  {
   "cell_type": "code",
   "execution_count": 3,
   "metadata": {},
   "outputs": [],
   "source": [
    "path_all_json_files = \"\\\\Raw_AQI_files\\\\\"\n",
    "path_delhi_data = \"\\\\Raw_Delhi_file\\\\\"\n",
    "\n",
    "save_path = \"\\\\Checked_RawFile\\\\\"\n",
    "save_delhi_path = \"\\\\Checked_DelhiFile\\\\\"\n",
    "\n",
    "error1_file = \"\\\\Error_Check_Files\\\\error_status1.json\"\n",
    "error2_file = \"\\\\Error_Check_Files\\\\error_status2.json\"\n",
    "error3_file = \"\\\\Error_Check_Files\\\\error_status3.json\"\n",
    "\n",
    "city = [\"dublin\", \"london\", \"paris\", \"turkey\", \"singapore\", \"colombia\", \"japan\", \"sweden\", \n",
    "        \"uganda\", \"sydney\", \"iceland\", \"portugal\", \"norway\", \"canada\", \"valkeakoski\",\n",
    "        \"mexico\", \"russia\", \"sweden\", \"croatia\", \"spain\", \"indonesia\", \"baicheng\", \"ukraine\", \"berlin\", \"abc\"]\n",
    "daily_city = \"delhi\""
   ]
  },
  {
   "cell_type": "markdown",
   "metadata": {},
   "source": [
    "<P>\n",
    "In the next cell, I have defined two functions.\n",
    "    \n",
    "    1.\tget_and_write_data() : This function gives an API call and collects the data and then dumps the collected data to a JSON file. The data for each city is stored in a separate JSON file.\n",
    "    \n",
    "    2.\tReadandwrite_1file(): This is an error check function. The API that I have used can give 3 types of errors which are available in 3 different JSON files (error1, error2 and erro3). The collected files are checked against these error JSON files and then written to a different location. From where the processing of the data begins.\n",
    "    \n",
    "</P>\n"
   ]
  },
  {
   "cell_type": "code",
   "execution_count": 4,
   "metadata": {},
   "outputs": [],
   "source": [
    "#function to call the API, retreive the raw JSON data, and write to a file\n",
    "def get_and_write_data(link, file_loc): \n",
    "    raw_json = requests.get(link).json()\n",
    "    with open(file_loc, \"w+\", newline ='') as write_file:\n",
    "        f = json.dump(raw_json, write_file)\n",
    "    write_file.close()\n",
    "    \n",
    "#function that combines all the json files downloaded and removes the error json\n",
    "def readandwrite_1file(path_all_json_files, save_path, error1_file, error2_file, error3_file):\n",
    "    error1 = open(error1_file).read().split('\\n')\n",
    "    error2 = open(error2_file).read().split('\\n')\n",
    "    error3 = open(error3_file).read().split('\\n')\n",
    "    \n",
    "    filelist = os.listdir(path_all_json_files)\n",
    "    for i in filelist:\n",
    "        if i.endswith(\".json\"):  \n",
    "            datapassed=\"file_\"+str(i)\n",
    "            completeName = os.path.join(save_path, datapassed+\".json\") \n",
    "            file = open(path_all_json_files + i).read().split('\\n')\n",
    "            if ((file != error1) and (file != error2) and (file != error3)):\n",
    "                with open(completeName, 'w+') as f:\n",
    "                    for item in file:\n",
    "                        f.write(item)"
   ]
  },
  {
   "cell_type": "code",
   "execution_count": 5,
   "metadata": {},
   "outputs": [],
   "source": [
    "for element in city:\n",
    "    URL_AQI = URL+element+API\n",
    "    collection = path_all_json_files+element+\".json\"\n",
    "    get_and_write_data(URL_AQI, collection)\n",
    "    \n",
    "readandwrite_1file(path_all_json_files, save_path, error1_file, error2_file, error3_file)"
   ]
  },
  {
   "cell_type": "markdown",
   "metadata": {},
   "source": [
    "The following is an output displaying the raw data is collected."
   ]
  },
  {
   "cell_type": "code",
   "execution_count": 6,
   "metadata": {
    "scrolled": false
   },
   "outputs": [
    {
     "name": "stdout",
     "output_type": "stream",
     "text": [
      "['{\"status\": \"ok\", \"data\": {\"aqi\": 363, \"idx\": 7293, \"attributions\": [{\"url\": \"http://hbt.jl.gov.cn/\", \"name\": \"Environmental Protection Agency of Jilin Province (\\\\u5409\\\\u6797\\\\u7701\\\\u73af\\\\u5883\\\\u4fdd\\\\u62a4\\\\u5385)\"}, {\"url\": \"http://113.108.142.147:20035/emcpublish/\", \"name\": \"China National Urban air quality real-time publishing platform (\\\\u5168\\\\u56fd\\\\u57ce\\\\u5e02\\\\u7a7a\\\\u6c14\\\\u8d28\\\\u91cf\\\\u5b9e\\\\u65f6\\\\u53d1\\\\u5e03\\\\u5e73\\\\u53f0)\"}, {\"url\": \"https://waqi.info/\", \"name\": \"World Air Quality Index Project\"}], \"city\": {\"geo\": [45.6175, 122.8211], \"name\": \"City EPA, Baicheng (\\\\u767d\\\\u57ce\\\\u5e02\\\\u73af\\\\u4fdd\\\\u5c40)\", \"url\": \"https://aqicn.org/city/china/baicheng/shihuanbaoju\"}, \"dominentpol\": \"pm25\", \"iaqi\": {\"co\": {\"v\": 14}, \"h\": {\"v\": 90.2}, \"no2\": {\"v\": 39.8}, \"o3\": {\"v\": 39.8}, \"p\": {\"v\": 1009.1}, \"pm10\": {\"v\": 239}, \"pm25\": {\"v\": 363}, \"so2\": {\"v\": 6.6}, \"t\": {\"v\": 6.5}, \"w\": {\"v\": 1.8}, \"wg\": {\"v\": 6.2}}, \"time\": {\"s\": \"2020-03-30 23:00:00\", \"tz\": \"+08:00\", \"v\": 1585609200}, \"debug\": {\"sync\": \"2020-03-31T00:33:17+09:00\"}}}']\n",
      "\n",
      "\n",
      "['{\"status\": \"ok\", \"data\": {\"aqi\": 18, \"idx\": 6132, \"attributions\": [{\"url\": \"http://www.stadtentwicklung.berlin.de/umwelt/luftqualitaet/\", \"name\": \"Berlin Air Quality - (Luftqualit\\\\u00e4t in Berlin)\", \"logo\": \"Germany-Berlin.png\"}, {\"url\": \"https://waqi.info/\", \"name\": \"World Air Quality Index Project\"}], \"city\": {\"geo\": [52.5200066, 13.404954], \"name\": \"Berlin, Germany\", \"url\": \"https://aqicn.org/city/germany/berlin\"}, \"dominentpol\": \"o3\", \"iaqi\": {\"h\": {\"v\": 85}, \"no2\": {\"v\": 27}, \"o3\": {\"v\": 17.5}, \"p\": {\"v\": 1025}, \"pm10\": {\"v\": 11}, \"t\": {\"v\": 1.6}, \"w\": {\"v\": 11.2}, \"wg\": {\"v\": 20.2}}, \"time\": {\"s\": \"2020-03-30 17:00:00\", \"tz\": \"+02:00\", \"v\": 1585587600}, \"debug\": {\"sync\": \"2020-03-31T00:24:26+09:00\"}}}']\n",
      "\n",
      "\n",
      "['{\"status\": \"ok\", \"data\": {\"aqi\": 26, \"idx\": 5, \"attributions\": [{\"url\": \"http://www.airqualityontario.com/\", \"name\": \"Air Quality Ontario - the Ontario Ministry of the Environment and Climate Change\", \"logo\": \"Ontario-Ministry-of-the-Environment-and-Climate-Change.png\"}, {\"url\": \"https://waqi.info/\", \"name\": \"World Air Quality Index Project\"}], \"city\": {\"geo\": [42.403694, -82.208306], \"name\": \"Chatham, Ontario, Canada\", \"url\": \"https://aqicn.org/city/canada/ontario/chatham\"}, \"dominentpol\": \"o3\", \"iaqi\": {\"h\": {\"v\": 80}, \"no2\": {\"v\": 3}, \"o3\": {\"v\": 25.6}, \"p\": {\"v\": 1011.2}, \"pm25\": {\"v\": 17}, \"t\": {\"v\": 6.2}, \"w\": {\"v\": 6.8}, \"wg\": {\"v\": 17}}, \"time\": {\"s\": \"2020-03-30 11:00:00\", \"tz\": \"-05:00\", \"v\": 1585566000}, \"debug\": {\"sync\": \"2020-03-31T00:20:39+09:00\"}}}']\n",
      "\n",
      "\n",
      "['{\"status\": \"ok\", \"data\": {\"aqi\": 127, \"idx\": 8245, \"attributions\": [{\"url\": \"https://www.metropol.gov.co/ambiental\", \"name\": \"\\\\u00c1rea Metropolitana del Valle de Aburr\\\\u00e1\", \"logo\": \"Colombia-Aburra.png\"}, {\"url\": \"https://waqi.info/\", \"name\": \"World Air Quality Index Project\"}], \"city\": {\"geo\": [6.18566212253533, -75.597283244133], \"name\": \"Casa de Justicia Itagui, Medell\\\\u00edn, Colombia\", \"url\": \"https://aqicn.org/city/colombia/medellin/casa-de-justicia-itagui\"}, \"dominentpol\": \"pm25\", \"iaqi\": {\"h\": {\"v\": 90}, \"no2\": {\"v\": 15.6}, \"p\": {\"v\": 1026.8}, \"pm25\": {\"v\": 127}, \"t\": {\"v\": 15.2}, \"w\": {\"v\": 0.1}, \"wg\": {\"v\": 2.4}}, \"time\": {\"s\": \"2020-03-30 10:00:00\", \"tz\": \"-05:00\", \"v\": 1585562400}, \"debug\": {\"sync\": \"2020-03-31T00:54:38+09:00\"}}}']\n",
      "\n",
      "\n",
      "['{\"status\": \"ok\", \"data\": {\"aqi\": 7, \"idx\": 8429, \"attributions\": [{\"url\": \"http://iszz.azo.hr/iskzl/\", \"name\": \"Croatian Environment Agency - Agencija za za\\\\u0161titu okoli\\\\u0161a\", \"logo\": \"Croatia-Kvaliteta-zraka-u-Republici-Hrvatskoj.png\"}, {\"url\": \"https://waqi.info/\", \"name\": \"World Air Quality Index Project\"}], \"city\": {\"geo\": [45.149113888889, 18.02345], \"name\": \"Slavonski Brod-2, Croatia\", \"url\": \"https://aqicn.org/city/croatia/slavonski-brod-2\"}, \"dominentpol\": \"pm10\", \"iaqi\": {\"co\": {\"v\": 0.1}, \"h\": {\"v\": 52}, \"p\": {\"v\": 1021.2}, \"pm10\": {\"v\": 7}, \"so2\": {\"v\": 0.8}, \"t\": {\"v\": 5}, \"w\": {\"v\": 4}, \"wg\": {\"v\": 11}}, \"time\": {\"s\": \"2020-03-30 15:00:00\", \"tz\": \"+02:00\", \"v\": 1585580400}, \"debug\": {\"sync\": \"2020-03-31T00:36:14+09:00\"}}}']\n",
      "\n",
      "\n",
      "['{\"status\": \"ok\", \"data\": {\"aqi\": 26, \"idx\": 5112, \"attributions\": [{\"url\": \"http://www.epa.ie/air/\", \"name\": \"Ireland Environmental Protection Agency (EPA)\", \"logo\": \"Ireland-EPA.png\"}, {\"url\": \"http://www.eea.europa.eu/themes/air/\", \"name\": \"European Environment Agency\", \"logo\": \"Europe-EEA.png\"}, {\"url\": \"https://waqi.info/\", \"name\": \"World Air Quality Index Project\"}], \"city\": {\"geo\": [53.3218816, -6.2655052], \"name\": \"Rathmines, Ireland\", \"url\": \"https://aqicn.org/city/ireland/rathmines\"}, \"dominentpol\": \"pm25\", \"iaqi\": {\"h\": {\"v\": 68.2}, \"no2\": {\"v\": 10.6}, \"o3\": {\"v\": 24.6}, \"p\": {\"v\": 1039}, \"pm10\": {\"v\": 11}, \"pm25\": {\"v\": 26}, \"so2\": {\"v\": 0.6}, \"t\": {\"v\": 8.8}, \"w\": {\"v\": 3.2}, \"wg\": {\"v\": 10.2}}, \"time\": {\"s\": \"2020-03-30 14:00:00\", \"tz\": \"+01:00\", \"v\": 1585576800}, \"debug\": {\"sync\": \"2020-03-31T00:30:44+09:00\"}}}']\n",
      "\n",
      "\n",
      "['{\"status\": \"ok\", \"data\": {\"aqi\": 12, \"idx\": 8347, \"attributions\": [{\"url\": \"http://www.ust.is/the-environment-agency-of-iceland/\", \"name\": \"the Environment Agency of Iceland\", \"logo\": \"iceland-umhverfisstofnun.png\"}, {\"url\": \"https://waqi.info/\", \"name\": \"World Air Quality Index Project\"}], \"city\": {\"geo\": [64.105, -21.889], \"name\": \"K\\\\u00f3p. Dalsm., Iceland\", \"url\": \"https://aqicn.org/city/iceland/kop.-dalsm.\"}, \"dominentpol\": \"pm10\", \"iaqi\": {\"co\": {\"v\": 0.1}, \"dew\": {\"v\": 2}, \"h\": {\"v\": 75}, \"no2\": {\"v\": 1.4}, \"p\": {\"v\": 1035}, \"pm10\": {\"v\": 12}, \"pm25\": {\"v\": 8}, \"so2\": {\"v\": 1.1}, \"t\": {\"v\": 6}, \"w\": {\"v\": 7.7}, \"wg\": {\"v\": 14.9}}, \"time\": {\"s\": \"2020-03-30 15:00:00\", \"tz\": \"+00:00\", \"v\": 1585580400}, \"debug\": {\"sync\": \"2020-03-31T00:25:28+09:00\"}}}']\n",
      "\n",
      "\n",
      "['{\"status\": \"ok\", \"data\": {\"aqi\": 13, \"idx\": 8293, \"attributions\": [{\"url\": \"http://www.bmkg.go.id/\", \"name\": \"BMKG | Badan Meteorologi, Klimatologi dan Geofisika\"}, {\"url\": \"https://waqi.info/\", \"name\": \"World Air Quality Index Project\"}], \"city\": {\"geo\": [-0.4948232, 117.1436154], \"name\": \"Samarinda, Indonesia\", \"url\": \"https://aqicn.org/city/indonesia/samarinda\"}, \"dominentpol\": \"pm10\", \"iaqi\": {\"dew\": {\"v\": 25.1}, \"h\": {\"v\": 91.5}, \"p\": {\"v\": 1009.4}, \"pm10\": {\"v\": 13}, \"t\": {\"v\": 26.6}}, \"time\": {\"s\": \"2019-12-20 22:00:00\", \"tz\": \"+07:00\", \"v\": 1576879200}, \"debug\": {\"sync\": \"2019-12-21T01:10:28+09:00\"}}}']\n",
      "\n",
      "\n",
      "['{\"status\": \"ok\", \"data\": {\"aqi\": 20, \"idx\": 2482, \"attributions\": [{\"url\": \"http://soramame.taiki.go.jp/\", \"name\": \"Japan Atmospheric Environmental Regional Observation System (\\\\u74b0\\\\u5883\\\\u7701\\\\u5927\\\\u6c17\\\\u6c5a\\\\u67d3\\\\u7269\\\\u8cea\\\\u5e83\\\\u57df\\\\u76e3\\\\u8996\\\\u30b7\\\\u30b9\\\\u30c6\\\\u30e0)\", \"logo\": \"Japan-Soramame.png\"}, {\"url\": \"https://waqi.info/\", \"name\": \"World Air Quality Index Project\"}], \"city\": {\"geo\": [26.2674534, 127.7237584], \"name\": \"Makiminato, Urasoe, Okinawa, Japan (\\\\u7267\\\\u6e2f\\\\u6d66\\\\u6dfb\\\\u5e02)\", \"url\": \"https://aqicn.org/city/japan/urazoeshi/makiminato\"}, \"dominentpol\": \"pm10\", \"iaqi\": {\"co\": {\"v\": 3.4}, \"dew\": {\"v\": 20}, \"h\": {\"v\": 94}, \"no2\": {\"v\": 1}, \"o3\": {\"v\": 32.8}, \"p\": {\"v\": 1014.5}, \"pm10\": {\"v\": 20}, \"pm25\": {\"v\": 17}, \"so2\": {\"v\": 1.5}, \"t\": {\"v\": 21}, \"w\": {\"v\": 1.5}, \"wg\": {\"v\": 10.2}}, \"time\": {\"s\": \"2020-03-30 23:00:00\", \"tz\": \"+09:00\", \"v\": 1585609200}, \"debug\": {\"sync\": \"2020-03-31T00:26:10+09:00\"}}}']\n",
      "\n",
      "\n",
      "['{\"status\": \"ok\", \"data\": {\"aqi\": 43, \"idx\": 5724, \"attributions\": [{\"url\": \"http://uk-air.defra.gov.uk/\", \"name\": \"UK-AIR, air quality information resource - Defra, UK\", \"logo\": \"UK-Department-for-environment-food-and-rural-affairs.png\"}, {\"url\": \"https://londonair.org.uk/\", \"name\": \"London Air Quality Network - Environmental Research Group, King\\'s College London\", \"logo\": \"UK-London-Kings-College.png\"}, {\"url\": \"https://waqi.info/\", \"name\": \"World Air Quality Index Project\"}], \"city\": {\"geo\": [51.5073509, -0.1277583], \"name\": \"London\", \"url\": \"https://aqicn.org/city/london\"}, \"dominentpol\": \"pm25\", \"iaqi\": {\"co\": {\"v\": 5.3}, \"h\": {\"v\": 69}, \"no2\": {\"v\": 13.2}, \"o3\": {\"v\": 25.3}, \"p\": {\"v\": 1031.9}, \"pm10\": {\"v\": 15}, \"pm25\": {\"v\": 43}, \"so2\": {\"v\": 0.8}, \"t\": {\"v\": 9.5}, \"w\": {\"v\": 13}}, \"time\": {\"s\": \"2020-03-30 14:00:00\", \"tz\": \"+01:00\", \"v\": 1585576800}, \"debug\": {\"sync\": \"2020-03-30T23:34:03+09:00\"}}}']\n",
      "\n",
      "\n",
      "['{\"status\": \"ok\", \"data\": {\"aqi\": 117, \"idx\": 404, \"attributions\": [{\"url\": \"http://sinaica.inecc.gob.mx/\", \"name\": \"INECC - Instituto Nacional de Ecolog&iacute;a y Cambio Clim&aacute;tico\", \"logo\": \"Mexico-INECC.png\"}, {\"url\": \"http://www.aire.df.gob.mx/\", \"name\": \"SINAICA - Sistema Nacional de Informaci\\\\u00f3n de la Calidad del Aire en Mexico\", \"logo\": \"Mexico-CuidaMexico.png\"}, {\"url\": \"https://waqi.info/\", \"name\": \"World Air Quality Index Project\"}], \"city\": {\"geo\": [19.42461, -99.119594], \"name\": \"Merced, M\\\\u00e9xico, Mexico\", \"url\": \"https://aqicn.org/city/mexico/mexico/merced\"}, \"dominentpol\": \"pm25\", \"iaqi\": {\"co\": {\"v\": 15.6}, \"h\": {\"v\": 63}, \"no2\": {\"v\": 24.1}, \"o3\": {\"v\": 9.6}, \"p\": {\"v\": 1028.4}, \"pm10\": {\"v\": 64}, \"pm25\": {\"v\": 117}, \"so2\": {\"v\": 17.2}, \"t\": {\"v\": 16.6}, \"w\": {\"v\": 4}}, \"time\": {\"s\": \"2020-03-30 09:00:00\", \"tz\": \"-06:00\", \"v\": 1585558800}, \"debug\": {\"sync\": \"2020-03-31T00:36:20+09:00\"}}}']\n",
      "\n",
      "\n",
      "['{\"status\": \"ok\", \"data\": {\"aqi\": 49, \"idx\": 8228, \"attributions\": [{\"url\": \"http://www.luftkvalitet.info/\", \"name\": \"NILU - Norsk institutt for Luftforskning (Norwegian Institute for Air Research)\", \"logo\": \"Norway-Luftkvalitet.png\"}, {\"url\": \"https://waqi.info/\", \"name\": \"World Air Quality Index Project\"}], \"city\": {\"geo\": [60.79089, 10.6967], \"name\": \"Minnesundvegen Gjovik, Gjovik, Norway\", \"url\": \"https://aqicn.org/city/norway/norway/gjovik/minnesundvegen-gjovik\"}, \"dominentpol\": \"pm10\", \"iaqi\": {\"h\": {\"v\": 58.8}, \"no2\": {\"v\": 8.6}, \"p\": {\"v\": 1031.1}, \"pm10\": {\"v\": 49}, \"pm25\": {\"v\": 17}, \"t\": {\"v\": -1.1}, \"w\": {\"v\": 2.8}, \"wg\": {\"v\": 8.4}}, \"time\": {\"s\": \"2020-03-30 16:00:00\", \"tz\": \"+02:00\", \"v\": 1585584000}, \"debug\": {\"sync\": \"2020-03-31T00:09:36+09:00\"}}}']\n",
      "\n",
      "\n",
      "['{\"status\": \"ok\", \"data\": {\"aqi\": 31, \"idx\": 5722, \"attributions\": [{\"url\": \"http://www.airparif.asso.fr/\", \"name\": \"AirParif - Association de surveillance de la qualit\\\\u00e9 de l\\'air en \\\\u00cele-de-France\", \"logo\": \"Paris-Air-Parif.png\"}, {\"url\": \"https://waqi.info/\", \"name\": \"World Air Quality Index Project\"}], \"city\": {\"geo\": [48.856614, 2.3522219], \"name\": \"Paris\", \"url\": \"https://aqicn.org/city/paris\"}, \"dominentpol\": \"pm25\", \"iaqi\": {\"co\": {\"v\": 0.1}, \"h\": {\"v\": 35.2}, \"no2\": {\"v\": 17.4}, \"o3\": {\"v\": 35}, \"p\": {\"v\": 1025.5}, \"pm10\": {\"v\": 11}, \"pm25\": {\"v\": 31}, \"so2\": {\"v\": 0.3}, \"t\": {\"v\": 9.1}, \"w\": {\"v\": 6.5}}, \"time\": {\"s\": \"2020-03-30 15:00:00\", \"tz\": \"+02:00\", \"v\": 1585580400}, \"debug\": {\"sync\": \"2020-03-30T23:29:47+09:00\"}}}']\n",
      "\n",
      "\n",
      "['{\"status\": \"ok\", \"data\": {\"aqi\": 25, \"idx\": 8383, \"attributions\": [{\"url\": \"http://qualar.apambiente.pt/\", \"name\": \"Portugal -Agencia Portuguesa do Ambiente - Qualidade do Ar\", \"logo\": \"portugal-qualar.png\"}, {\"url\": \"http://www.eea.europa.eu/themes/air/\", \"name\": \"European Environment Agency\", \"logo\": \"Europe-EEA.png\"}, {\"url\": \"https://waqi.info/\", \"name\": \"World Air Quality Index Project\"}], \"city\": {\"geo\": [37.015, -7.9266666666667], \"name\": \"Joaquim Magalh\\\\u00e3es, Faro, Portugal\", \"url\": \"https://aqicn.org/city/portugal/faro/joaquim-magalhaes\"}, \"dominentpol\": \"o3\", \"iaqi\": {\"dew\": {\"v\": 13}, \"h\": {\"v\": 93}, \"no2\": {\"v\": 9.7}, \"o3\": {\"v\": 25.1}, \"p\": {\"v\": 1011}, \"pm10\": {\"v\": 21}, \"pm25\": {\"v\": 45}, \"t\": {\"v\": 14}, \"w\": {\"v\": 1.5}}, \"time\": {\"s\": \"2020-03-30 09:00:00\", \"tz\": \"+01:00\", \"v\": 1585558800}, \"debug\": {\"sync\": \"2020-03-30T21:06:26+09:00\"}}}']\n",
      "\n",
      "\n",
      "['{\"status\": \"ok\", \"data\": {\"aqi\": 53, \"idx\": 4716, \"attributions\": [{\"url\": \"http://www.mosecom.ru/karta/\", \"name\": \"Moscow State environmental monitoring (\\\\u0413\\\\u043e\\\\u0441\\\\u0443\\\\u0434\\\\u0430\\\\u0440\\\\u0441\\\\u0442\\\\u0432\\\\u0435\\\\u043d\\\\u043d\\\\u044b\\\\u0439 \\\\u044d\\\\u043a\\\\u043e\\\\u043b\\\\u043e\\\\u0433\\\\u0438\\\\u0447\\\\u0435\\\\u0441\\\\u043a\\\\u0438\\\\u0439 \\\\u043c\\\\u043e\\\\u043d\\\\u0438\\\\u0442\\\\u043e\\\\u0440\\\\u0438\\\\u043d\\\\u0433 \\\\u0432 \\\\u041c\\\\u043e\\\\u0441\\\\u043a\\\\u0432\\\\u0435)\", \"logo\": \"Russia-MoscowGov.png\"}, {\"url\": \"https://waqi.info/\", \"name\": \"World Air Quality Index Project\"}], \"city\": {\"geo\": [55.723093, 37.910381], \"name\": \"Kojuhovo, Moscow, Moscow, Russia (\\\\u041a\\\\u043e\\\\u0436\\\\u0443\\\\u0445\\\\u043e\\\\u0432\\\\u043e, \\\\u041c\\\\u043e\\\\u0441\\\\u043a\\\\u0432\\\\u0430)\", \"url\": \"https://aqicn.org/city/moscow/kojuhovo\"}, \"dominentpol\": \"pm25\", \"iaqi\": {\"co\": {\"v\": 3.7}, \"dew\": {\"v\": 6}, \"h\": {\"v\": 93}, \"no2\": {\"v\": 24.1}, \"o3\": {\"v\": 1.1}, \"p\": {\"v\": 1010}, \"pm10\": {\"v\": 18}, \"pm25\": {\"v\": 53}, \"so2\": {\"v\": 2.6}, \"t\": {\"v\": 7}, \"w\": {\"v\": 2.5}, \"wg\": {\"v\": 14.9}}, \"time\": {\"s\": \"2020-03-10 14:00:00\", \"tz\": \"+03:00\", \"v\": 1583848800}, \"debug\": {\"sync\": \"2020-03-10T20:16:50+09:00\"}}}']\n",
      "\n",
      "\n",
      "['{\"status\": \"ok\", \"data\": {\"aqi\": 53, \"idx\": 1663, \"attributions\": [{\"url\": \"http://nea.gov.sg/\", \"name\": \"NEA - Singapore National Environment Agency\"}, {\"url\": \"https://waqi.info/\", \"name\": \"World Air Quality Index Project\"}], \"city\": {\"geo\": [1.296183, 103.846181], \"name\": \"South, Singapore\", \"url\": \"https://aqicn.org/city/singapore/south\"}, \"dominentpol\": \"pm25\", \"iaqi\": {\"co\": {\"v\": 6}, \"dew\": {\"v\": 24}, \"h\": {\"v\": 74}, \"o3\": {\"v\": 20}, \"p\": {\"v\": 1010}, \"pm10\": {\"v\": 22}, \"pm25\": {\"v\": 53}, \"so2\": {\"v\": 3}, \"t\": {\"v\": 29}, \"w\": {\"v\": 2}, \"wg\": {\"v\": 8.7}}, \"time\": {\"s\": \"2020-03-31 00:00:00\", \"tz\": \"+08:00\", \"v\": 1585612800}, \"debug\": {\"sync\": \"2020-03-31T01:04:11+09:00\"}}}']\n",
      "\n",
      "\n",
      "['{\"status\": \"ok\", \"data\": {\"aqi\": 18, \"idx\": 10534, \"attributions\": [{\"url\": \"http://www20.gencat.cat/portal/site/mediambient/\", \"name\": \"Medi Ambient. Generalitat de Catalunya\", \"logo\": \"Spain-Catalunya.png\"}, {\"url\": \"http://www.eea.europa.eu/themes/air/\", \"name\": \"European Environment Agency\", \"logo\": \"Europe-EEA.png\"}, {\"url\": \"https://waqi.info/\", \"name\": \"World Air Quality Index Project\"}], \"city\": {\"geo\": [41.40388, 2.2045226], \"name\": \"Barcelona (Poblenou), Catalunya, Spain\", \"url\": \"https://aqicn.org/city/spain/catalunya/barcelona-poblenou\"}, \"dominentpol\": \"pm10\", \"iaqi\": {\"co\": {\"v\": 0.1}, \"h\": {\"v\": 82.3}, \"no2\": {\"v\": 9.2}, \"o3\": {\"v\": 25}, \"p\": {\"v\": 1015}, \"pm10\": {\"v\": 18}, \"t\": {\"v\": 9.4}, \"w\": {\"v\": 2.1}, \"wg\": {\"v\": 5}}, \"time\": {\"s\": \"2020-03-30 17:00:00\", \"tz\": \"+02:00\", \"v\": 1585587600}, \"debug\": {\"sync\": \"2020-03-31T00:29:52+09:00\"}}}']\n",
      "\n",
      "\n",
      "['{\"status\": \"ok\", \"data\": {\"aqi\": 30, \"idx\": 10010, \"attributions\": [{\"url\": \"http://worldweather.wmo.int\", \"name\": \"World Meteorological Organization - surface synoptic observations (WMO-SYNOP)\"}, {\"url\": \"http://www.naturvardsverket.se\", \"name\": \"Natur V\\\\u00e5rdsverket - Swedish Environmental Protection Agency\", \"logo\": \"Sweden-naturvardsverket.png\"}, {\"url\": \"http://www.eea.europa.eu/themes/air/\", \"name\": \"European Environment Agency\", \"logo\": \"Europe-EEA.png\"}, {\"url\": \"https://waqi.info/\", \"name\": \"World Air Quality Index Project\"}], \"city\": {\"geo\": [62.38855964418764, 17.308889830123555], \"name\": \"Sundsvall K\\\\u00f6pmangatan, Sweden\", \"url\": \"https://aqicn.org/city/sweden/sundsvall-kopmangatan\"}, \"dominentpol\": \"pm10\", \"iaqi\": {\"h\": {\"v\": 12.4}, \"p\": {\"v\": 1040.9}, \"pm10\": {\"v\": 30}, \"pm25\": {\"v\": 19}, \"t\": {\"v\": 5.6}}, \"time\": {\"s\": \"2020-03-30 16:00:00\", \"tz\": \"+02:00\", \"v\": 1585584000}, \"debug\": {\"sync\": \"2020-03-31T00:32:13+09:00\"}}}']\n",
      "\n",
      "\n",
      "['{\"status\": \"ok\", \"data\": {\"aqi\": 7, \"idx\": 12417, \"attributions\": [{\"url\": \"https://www.environment.nsw.gov.au/\", \"name\": \"Office of Environment and Heritage - NSW\", \"logo\": \"Australia-NSW.png\"}, {\"url\": \"https://waqi.info/\", \"name\": \"World Air Quality Index Project\"}], \"city\": {\"geo\": [-33.872468, 151.213337], \"name\": \"Cook And Phillip Sydney East\", \"url\": \"https://aqicn.org/city/australia/nsw/cook-and-phillip/sydney-east\"}, \"dominentpol\": \"pm25\", \"iaqi\": {\"co\": {\"v\": 2.3}, \"h\": {\"v\": 75.8}, \"neph\": {\"v\": 5}, \"no2\": {\"v\": 16.7}, \"o3\": {\"v\": 0.8}, \"p\": {\"v\": 1006.6}, \"pm10\": {\"v\": 6}, \"pm25\": {\"v\": 7}, \"so2\": {\"v\": 1.5}, \"t\": {\"v\": 21.3}, \"w\": {\"v\": 0.3}, \"wg\": {\"v\": 1.2}}, \"time\": {\"s\": \"2020-03-31 00:00:00\", \"tz\": \"+11:00\", \"v\": 1585612800}, \"debug\": {\"sync\": \"2020-03-31T00:38:08+09:00\"}}}']\n",
      "\n",
      "\n",
      "['{\"status\": \"ok\", \"data\": {\"aqi\": 52, \"idx\": 4128, \"attributions\": [{\"url\": \"http://www.havaizleme.gov.tr/\", \"name\": \"Turkey National Air Quality Monitoring Network (Ulusal Hava Kalitesi \\\\u0130zleme A\\\\u011f\\\\u0131)\", \"logo\": \"Turkey-TC-cevre-ve-sehircilik-bakanligi.png\"}, {\"url\": \"https://waqi.info/\", \"name\": \"World Air Quality Index Project\"}], \"city\": {\"geo\": [41.0214680510253, 40.5309080638241], \"name\": \"Rize, Turkey\", \"url\": \"https://aqicn.org/city/turkey/karadeniz/rize\"}, \"dominentpol\": \"pm25\", \"iaqi\": {\"dew\": {\"v\": 8}, \"h\": {\"v\": 87}, \"no2\": {\"v\": 7.2}, \"o3\": {\"v\": 20}, \"p\": {\"v\": 1012}, \"pm10\": {\"v\": 12}, \"pm25\": {\"v\": 52}, \"so2\": {\"v\": 2.1}, \"t\": {\"v\": 10}, \"w\": {\"v\": 3.6}}, \"time\": {\"s\": \"2020-03-30 16:00:00\", \"tz\": \"+03:00\", \"v\": 1585584000}, \"debug\": {\"sync\": \"2020-03-31T00:14:17+09:00\"}}}']\n",
      "\n",
      "\n",
      "['{\"status\": \"ok\", \"data\": {\"aqi\": 82, \"idx\": 9470, \"attributions\": [{\"url\": \"https://ug.usembassy.gov/\", \"name\": \"Kampala Air Quality Monitor - US Embassy\", \"logo\": \"US-StateDepartment.png\"}, {\"url\": \"https://waqi.info/\", \"name\": \"World Air Quality Index Project\"}], \"city\": {\"geo\": [0.300225, 32.591553], \"name\": \"Kampala US Embassy, Uganda\", \"url\": \"https://aqicn.org/city/uganda/kampala/us-embassy\"}, \"dominentpol\": \"pm25\", \"iaqi\": {\"dew\": {\"v\": 20}, \"h\": {\"v\": 65}, \"p\": {\"v\": 1013}, \"pm25\": {\"v\": 82}, \"t\": {\"v\": 27}, \"w\": {\"v\": 3.6}, \"wg\": {\"v\": 12.3}}, \"time\": {\"s\": \"2020-03-30 18:00:00\", \"tz\": \"+03:00\", \"v\": 1585591200}, \"debug\": {\"sync\": \"2020-03-31T00:39:27+09:00\"}}}']\n",
      "\n",
      "\n",
      "['{\"status\": \"ok\", \"data\": {\"aqi\": 57, \"idx\": 11903, \"attributions\": [{\"url\": \"https://savednipro.org/\", \"name\": \"Save Dnipro\", \"logo\": \"Ukraine-Nipro.png\"}, {\"url\": \"http://www.cgo.kiev.ua/\", \"name\": \"Ukraine SensorNet\"}, {\"url\": \"https://waqi.info/\", \"name\": \"World Air Quality Index Project\"}], \"city\": {\"geo\": [50.528, 30.236], \"name\": \"vulicya Soborna, 163, Irpin, Ukraine (Luftdaten #26427)\", \"url\": \"https://aqicn.org/city/ukraine/irpin/vulicya-soborna--163\"}, \"dominentpol\": \"pm25\", \"iaqi\": {\"dew\": {\"v\": -2}, \"h\": {\"v\": 61.98}, \"p\": {\"v\": 1010}, \"pm10\": {\"v\": 24}, \"pm25\": {\"v\": 57}, \"t\": {\"v\": 9.53}, \"w\": {\"v\": 8.2}}, \"time\": {\"s\": \"2020-03-30 20:00:00\", \"tz\": \"+03:00\", \"v\": 1585598400}, \"debug\": {\"sync\": \"2020-03-31T01:02:35+09:00\"}}}']\n",
      "\n",
      "\n",
      "['{\"status\": \"ok\", \"data\": {\"aqi\": 19, \"idx\": 4971, \"attributions\": [{\"url\": \"http://www.ilmanlaatu.fi/\", \"name\": \"Ilmanlaatu - Air Quality in finland\"}], \"city\": {\"geo\": [61.27156, 24.02849], \"name\": \"Hiekkatekonurmi, Valkeakoski\", \"url\": \"http://aqicn.org/city/finland/valkeakoski/hiekkatekonurmi/\"}, \"dominentpol\": \"pm25\", \"iaqi\": {\"no2\": {\"v\": 1.9}, \"pm10\": {\"v\": 6}, \"pm25\": {\"v\": 19}}, \"time\": {\"s\": \"2018-04-05 10:00:00\", \"tz\": \"+03:00\", \"v\": 1522922400}}}']\n",
      "\n",
      "\n"
     ]
    }
   ],
   "source": [
    "filelist = os.listdir(save_path)\n",
    "for i in filelist:\n",
    "        if i.endswith(\".json\"):  \n",
    "            file = open(save_path + i, 'r').read().split('\\n')\n",
    "            print(file)\n",
    "            print(\"\\n\")"
   ]
  },
  {
   "cell_type": "markdown",
   "metadata": {},
   "source": [
    "##  Parse the collected data, and store it in an appropriate file format"
   ]
  },
  {
   "cell_type": "markdown",
   "metadata": {},
   "source": [
    "<P>\n",
    "In this section, I have created various lists that to which I will be storing my data that I fetch from the JSON files.\n",
    "\n",
    "The row_list variables were used to write this data to a CSV file and the header_n variables for creating an appropriate header for the CSV file.. The functions are described in the subsequent cells.\n",
    "\n",
    "I have separated my data in my different tables (two different CSV files) for better clarity and understanding of the data. \n",
    "</P>"
   ]
  },
  {
   "cell_type": "code",
   "execution_count": 7,
   "metadata": {},
   "outputs": [],
   "source": [
    "city = []\n",
    "AQI = []\n",
    "time = []\n",
    "labels = [] \n",
    "iaqi_h = []\n",
    "iaqi_no2 = []\n",
    "iaqi_o3 = []\n",
    "iaqi_p = []\n",
    "iaqi_pm10 = []\n",
    "iaqi_pm25 = []\n",
    "iaqi_so2 = []\n",
    "\n",
    "row_list_1 = [city, AQI, labels, time]\n",
    "row_list_2 = [city, iaqi_h, iaqi_no2, iaqi_o3, iaqi_p, iaqi_pm10, iaqi_pm25, iaqi_so2]\n",
    "\n",
    "header_1 = [\"City\", \"AQI\", \"Labels\", \"Time\"]\n",
    "header_2 = [\"City\", \"H\", \"NO2\", \"O3\", \"P\", \"PM10\", \"PM25\", \"SO2\"]\n",
    "\n",
    "csv_path = \"\\\\\"\n",
    "table_1_path = csv_path+\"table1.csv\"\n",
    "table_2_path = csv_path+\"table2.csv\""
   ]
  },
  {
   "cell_type": "markdown",
   "metadata": {},
   "source": [
    "<P>\n",
    "The following is the description of the functions in the next cell: \n",
    "    \n",
    "    1.\textract_info(): This function reads all the JSO files and fetched the values that I felt were necessary for the analysis later. The value is then appended to the list which were defined above. Various checks have been done within this function. For instance, if an API does not return AQI value it will be given a random value of 999 which is handled later. Any value if is not available is append with a 0 to avoid any missing in the data.\n",
    "\n",
    "I have extended this data by including a Label in my table. This label checks the AQI values and assigns a label according to the range as described in the AQI API documentation. The API doesn’t provide the labels. \n",
    "\n",
    "    2.\tThe csv_writer(): This function simply creates a CSV file from the lists passed as parameter.\n",
    "\n",
    "    3.\textract_info_delhi(): This function is used to fetch the data specifically for city “Delhi”. Similar checks to the extract_info() are present.\n",
    "\n"
   ]
  },
  {
   "cell_type": "code",
   "execution_count": 8,
   "metadata": {},
   "outputs": [],
   "source": [
    "def extract_info(path):\n",
    "    filelist = os.listdir(path)\n",
    "    for i in filelist:\n",
    "            if i.endswith(\".json\"):  \n",
    "                with open(path + i, 'r+') as f:\n",
    "                    info = json.load(f)\n",
    "                    check = info['data']['iaqi']\n",
    "\n",
    "                    city.append(info['data']['city']['name'])\n",
    "                    check_str = \"string\"\n",
    "                    aqi_value = info['data']['aqi']\n",
    "                    if ((type(aqi_value)) == type(check_str)):\n",
    "                        AQI.append(999)\n",
    "                    else:\n",
    "                        AQI.append(info['data']['aqi'])\n",
    "                    time.append(info['data']['time']['s'])\n",
    "\n",
    "                    if 'h' not in check:\n",
    "                        iaqi_h.append(0)\n",
    "                    else:\n",
    "                        iaqi_h.append(info['data']['iaqi']['h']['v'])\n",
    "\n",
    "\n",
    "                    if 'no2' not in check:\n",
    "                        iaqi_no2.append(0)\n",
    "                    else:\n",
    "                        iaqi_no2.append(info['data']['iaqi']['no2']['v'])\n",
    "\n",
    "                    if 'o3' not in check:\n",
    "                        iaqi_o3.append(0)\n",
    "                    else:\n",
    "                        iaqi_o3.append(info['data']['iaqi']['o3']['v'])\n",
    "\n",
    "                    if 'p' not in check:\n",
    "                        iaqi_p.append(0)\n",
    "                    else:\n",
    "                        iaqi_p.append(info['data']['iaqi']['p']['v'])\n",
    "\n",
    "                    if 'pm10' not in check:\n",
    "                        iaqi_pm10.append(0)\n",
    "                    else:\n",
    "                        iaqi_pm10.append(info['data']['iaqi']['pm10']['v'])\n",
    "\n",
    "                    if 'pm25' not in check:\n",
    "                        iaqi_pm25.append(0)\n",
    "                    else:\n",
    "                        iaqi_pm25.append(info['data']['iaqi']['pm25']['v'])\n",
    "\n",
    "\n",
    "                    if 'so2' not in check:\n",
    "                        iaqi_so2.append(0)\n",
    "                    else:\n",
    "                        iaqi_so2.append(info['data']['iaqi']['so2']['v'])\n",
    "\n",
    "\n",
    "                    aqi_value = info['data']['aqi']\n",
    "                    if ((type(aqi_value)) == type(check_str)):\n",
    "                        label = \"Not available\"\n",
    "                    else:\n",
    "                        if ((aqi_value >= 0) and (aqi_value <= 50 )):\n",
    "                            label = \"Good\"\n",
    "                        if ((aqi_value >= 51) and (aqi_value <= 100 )):\n",
    "                            label = \"Moderate\"\n",
    "                        if ((aqi_value >= 101) and (aqi_value <= 150 )):\n",
    "                            label = \"Unhealthy SG\"\n",
    "                        if ((aqi_value >= 151) and (aqi_value <= 200 )):\n",
    "                            label = \"Unhealthy\"\n",
    "                        if ((aqi_value >= 201) and (aqi_value <= 300 )):\n",
    "                            label = \"Very Unhealthy\"\n",
    "                        if (aqi_value >= 301):\n",
    "                            label = \"Hazardous\"\n",
    "                        if (aqi_value == 999):  #Handling the missing value of AQI\n",
    "                            label = \"Not Available\"\n",
    "                    labels.append(label)\n",
    "                    \n",
    "def csv_writer(path, row_list):\n",
    "    with open(path, 'w', encoding='utf-8', newline = '') as file: \n",
    "        wr = csv.writer(file)\n",
    "        wr.writerows(row_list)\n",
    "\n",
    "def extract_info_delhi(path):\n",
    "    filelist = os.listdir(path)\n",
    "    for i in filelist:\n",
    "            if i.endswith(\".json\"):  \n",
    "                with open(path + i, 'r+') as f:\n",
    "                    info = json.load(f)\n",
    "                    check = info['data']['iaqi']\n",
    "\n",
    "                    time_delhi.append(info['data']['time']['s'])\n",
    "\n",
    "                    if 'pm25' not in check:\n",
    "                        iaqi_pm25_delhi.append(0)\n",
    "                    else:\n",
    "                        iaqi_pm25_delhi.append(info['data']['iaqi']['pm25']['v'])"
   ]
  },
  {
   "cell_type": "code",
   "execution_count": 9,
   "metadata": {},
   "outputs": [],
   "source": [
    "extract_info(save_path)\n",
    "\n",
    "csv_writer(table_1_path, row_list_1)\n",
    "csv_writer(table_2_path, row_list_2)"
   ]
  },
  {
   "cell_type": "code",
   "execution_count": 10,
   "metadata": {
    "scrolled": true
   },
   "outputs": [
    {
     "name": "stdout",
     "output_type": "stream",
     "text": [
      "City:  ['City EPA, Baicheng (白城市环保局)', 'Berlin, Germany', 'Chatham, Ontario, Canada', 'Casa de Justicia Itagui, Medellín, Colombia', 'Slavonski Brod-2, Croatia', 'Rathmines, Ireland', 'Kóp. Dalsm., Iceland', 'Samarinda, Indonesia', 'Makiminato, Urasoe, Okinawa, Japan (牧港浦添市)', 'London', 'Merced, México, Mexico', 'Minnesundvegen Gjovik, Gjovik, Norway', 'Paris', 'Joaquim Magalhães, Faro, Portugal', 'Kojuhovo, Moscow, Moscow, Russia (Кожухово, Москва)', 'South, Singapore', 'Barcelona (Poblenou), Catalunya, Spain', 'Sundsvall Köpmangatan, Sweden', 'Cook And Phillip Sydney East', 'Rize, Turkey', 'Kampala US Embassy, Uganda', 'vulicya Soborna, 163, Irpin, Ukraine (Luftdaten #26427)', 'Hiekkatekonurmi, Valkeakoski'] \n",
      "Length:  23 \n",
      "\n",
      "AQI:  [363, 18, 26, 127, 7, 26, 12, 13, 20, 43, 117, 49, 31, 25, 53, 53, 18, 30, 7, 52, 82, 57, 19] \n",
      "Length:  23 \n",
      "\n",
      "Lables:  ['Hazardous', 'Good', 'Good', 'Unhealthy SG', 'Good', 'Good', 'Good', 'Good', 'Good', 'Good', 'Unhealthy SG', 'Good', 'Good', 'Good', 'Moderate', 'Moderate', 'Good', 'Good', 'Good', 'Moderate', 'Moderate', 'Moderate', 'Good'] \n",
      "Length:  23 \n",
      "\n",
      "Time:  ['2020-03-30 23:00:00', '2020-03-30 17:00:00', '2020-03-30 11:00:00', '2020-03-30 10:00:00', '2020-03-30 15:00:00', '2020-03-30 14:00:00', '2020-03-30 15:00:00', '2019-12-20 22:00:00', '2020-03-30 23:00:00', '2020-03-30 14:00:00', '2020-03-30 09:00:00', '2020-03-30 16:00:00', '2020-03-30 15:00:00', '2020-03-30 09:00:00', '2020-03-10 14:00:00', '2020-03-31 00:00:00', '2020-03-30 17:00:00', '2020-03-30 16:00:00', '2020-03-31 00:00:00', '2020-03-30 16:00:00', '2020-03-30 18:00:00', '2020-03-30 20:00:00', '2018-04-05 10:00:00'] \n",
      "Length:  23 \n",
      "\n",
      "H:  [90.2, 85, 80, 90, 52, 68.2, 75, 91.5, 94, 69, 63, 58.8, 35.2, 93, 93, 74, 82.3, 12.4, 75.8, 87, 65, 61.98, 0] \n",
      "Length:  23 \n",
      "\n",
      "NO2:  [39.8, 27, 3, 15.6, 0, 10.6, 1.4, 0, 1, 13.2, 24.1, 8.6, 17.4, 9.7, 24.1, 0, 9.2, 0, 16.7, 7.2, 0, 0, 1.9] \n",
      "Length:  23 \n",
      "\n",
      "O3:  [39.8, 17.5, 25.6, 0, 0, 24.6, 0, 0, 32.8, 25.3, 9.6, 0, 35, 25.1, 1.1, 20, 25, 0, 0.8, 20, 0, 0, 0] \n",
      "Length:  23 \n",
      "\n",
      "P:  [1009.1, 1025, 1011.2, 1026.8, 1021.2, 1039, 1035, 1009.4, 1014.5, 1031.9, 1028.4, 1031.1, 1025.5, 1011, 1010, 1010, 1015, 1040.9, 1006.6, 1012, 1013, 1010, 0] \n",
      "Length:  23 \n",
      "\n",
      "PM10:  [239, 11, 0, 0, 7, 11, 12, 13, 20, 15, 64, 49, 11, 21, 18, 22, 18, 30, 6, 12, 0, 24, 6] \n",
      "Length:  23 \n",
      "\n",
      "PM25:  [363, 0, 17, 127, 0, 26, 8, 0, 17, 43, 117, 17, 31, 45, 53, 53, 0, 19, 7, 52, 82, 57, 19] \n",
      "Length:  23 \n",
      "\n",
      "SO2:  [6.6, 0, 0, 0, 0.8, 0.6, 1.1, 0, 1.5, 0.8, 17.2, 0, 0.3, 0, 2.6, 3, 0, 0, 1.5, 2.1, 0, 0, 0] \n",
      "Length:  23 \n",
      "\n"
     ]
    }
   ],
   "source": [
    "# Printing the differnet lists created.\n",
    "\n",
    "print(\"City: \", city, \"\\nLength: \",len(city), \"\\n\")\n",
    "print(\"AQI: \", AQI, \"\\nLength: \", len(AQI), \"\\n\")\n",
    "print(\"Lables: \", labels, \"\\nLength: \",len(labels), \"\\n\")\n",
    "print(\"Time: \", time, \"\\nLength: \",len(time), \"\\n\")\n",
    "print(\"H: \", iaqi_h, \"\\nLength: \", len(iaqi_h), \"\\n\")\n",
    "print(\"NO2: \", iaqi_no2, \"\\nLength: \", len(iaqi_no2), \"\\n\")\n",
    "print(\"O3: \",iaqi_o3, \"\\nLength: \",len(iaqi_o3), \"\\n\")\n",
    "print(\"P: \", iaqi_p, \"\\nLength: \", len(iaqi_p), \"\\n\")\n",
    "print(\"PM10: \", iaqi_pm10, \"\\nLength: \",len(iaqi_pm10), \"\\n\")\n",
    "print(\"PM25: \", iaqi_pm25, \"\\nLength: \",len(iaqi_pm25), \"\\n\")\n",
    "print(\"SO2: \", iaqi_so2, \"\\nLength: \", len(iaqi_so2), \"\\n\")"
   ]
  },
  {
   "cell_type": "markdown",
   "metadata": {},
   "source": [
    "<b><i> Next two cells are for City = \"Delhi\" </i></b>\n",
    "<br> \n",
    "These cells were executed daily for 10 days for analysis (March 14, 2020 to March 30, 2020)"
   ]
  },
  {
   "cell_type": "code",
   "execution_count": 11,
   "metadata": {},
   "outputs": [],
   "source": [
    "time_delhi = []\n",
    "iaqi_pm25_delhi = []\n",
    "\n",
    "today = date.today()\n",
    "d = today.strftime(\"%d-%m-%Y\")\n",
    "\n",
    "# row_list_delhi = [time_delhi, iaqi_pm25_delhi]\n",
    "header_delhi = [\"Time\", \"PM25\"]\n",
    "\n",
    "# table_delhi_path = csv_path+\"table_delhi.csv\""
   ]
  },
  {
   "cell_type": "markdown",
   "metadata": {},
   "source": [
    "This daily data was manually recorded to a csv file (table_delhi.csv) for further analysis. I was able to conclude a concrete information at the end of the notebook using this data."
   ]
  },
  {
   "cell_type": "code",
   "execution_count": 12,
   "metadata": {},
   "outputs": [
    {
     "name": "stdout",
     "output_type": "stream",
     "text": [
      "Time:  ['2020-03-30 21:00:00'] \n",
      "Length:  1 \n",
      "\n",
      "PM25:  [97] \n",
      "Length:  1 \n",
      "\n"
     ]
    }
   ],
   "source": [
    "URL_AQI = URL+daily_city+API\n",
    "collection = path_delhi_data+daily_city+d+\".json\"\n",
    "get_and_write_data(URL_AQI, collection)\n",
    "readandwrite_1file(path_delhi_data, save_delhi_path, error1_file, error2_file, error3_file)\n",
    "\n",
    "extract_info_delhi(save_delhi_path)\n",
    "\n",
    "print(\"Time: \", time_delhi , \"\\nLength: \",len(time_delhi), \"\\n\")\n",
    "print(\"PM25: \", iaqi_pm25_delhi, \"\\nLength: \", len(iaqi_pm25_delhi), \"\\n\")"
   ]
  },
  {
   "cell_type": "markdown",
   "metadata": {},
   "source": [
    "## Task 4: Load and represent the data using an appropriate data structure. Apply any pre-processing steps to clean/filter/combine the data"
   ]
  },
  {
   "cell_type": "markdown",
   "metadata": {},
   "source": [
    "<P>\n",
    "I have read the values from the JSON file and written them to a CSV file. Working with CSV file is a little easier. I have created a data frame from the CSV file and done some transformations. This was required to get the data in right shape. Also, to make sure the written data has the correct type, the types of the attributes were also set in the process. \n",
    "\n",
    "As discussed earlier, I have created two different files as it makes understanding the data much easier. To facilitate the further processing and analysis part, I have combined the data frames together. As mentioned earlier, if there a city that does not have a AQI value, I have appended a 999 value which is basically an outlier and will hamper with the original data. \n",
    "I have then removed the defaulter rows. \n",
    "</P>"
   ]
  },
  {
   "cell_type": "code",
   "execution_count": 13,
   "metadata": {},
   "outputs": [
    {
     "data": {
      "text/html": [
       "<div>\n",
       "<style scoped>\n",
       "    .dataframe tbody tr th:only-of-type {\n",
       "        vertical-align: middle;\n",
       "    }\n",
       "\n",
       "    .dataframe tbody tr th {\n",
       "        vertical-align: top;\n",
       "    }\n",
       "\n",
       "    .dataframe thead th {\n",
       "        text-align: right;\n",
       "    }\n",
       "</style>\n",
       "<table border=\"1\" class=\"dataframe\">\n",
       "  <thead>\n",
       "    <tr style=\"text-align: right;\">\n",
       "      <th></th>\n",
       "      <th>City</th>\n",
       "      <th>AQI</th>\n",
       "      <th>Labels</th>\n",
       "      <th>Time</th>\n",
       "    </tr>\n",
       "  </thead>\n",
       "  <tbody>\n",
       "    <tr>\n",
       "      <td>0</td>\n",
       "      <td>City EPA, Baicheng (白城市环保局)</td>\n",
       "      <td>363</td>\n",
       "      <td>Hazardous</td>\n",
       "      <td>2020-03-30 23:00:00</td>\n",
       "    </tr>\n",
       "    <tr>\n",
       "      <td>1</td>\n",
       "      <td>Berlin, Germany</td>\n",
       "      <td>18</td>\n",
       "      <td>Good</td>\n",
       "      <td>2020-03-30 17:00:00</td>\n",
       "    </tr>\n",
       "    <tr>\n",
       "      <td>2</td>\n",
       "      <td>Chatham, Ontario, Canada</td>\n",
       "      <td>26</td>\n",
       "      <td>Good</td>\n",
       "      <td>2020-03-30 11:00:00</td>\n",
       "    </tr>\n",
       "    <tr>\n",
       "      <td>3</td>\n",
       "      <td>Casa de Justicia Itagui, Medellín, Colombia</td>\n",
       "      <td>127</td>\n",
       "      <td>Unhealthy SG</td>\n",
       "      <td>2020-03-30 10:00:00</td>\n",
       "    </tr>\n",
       "    <tr>\n",
       "      <td>4</td>\n",
       "      <td>Slavonski Brod-2, Croatia</td>\n",
       "      <td>7</td>\n",
       "      <td>Good</td>\n",
       "      <td>2020-03-30 15:00:00</td>\n",
       "    </tr>\n",
       "  </tbody>\n",
       "</table>\n",
       "</div>"
      ],
      "text/plain": [
       "                                          City  AQI        Labels  \\\n",
       "0                  City EPA, Baicheng (白城市环保局)  363     Hazardous   \n",
       "1                              Berlin, Germany   18          Good   \n",
       "2                     Chatham, Ontario, Canada   26          Good   \n",
       "3  Casa de Justicia Itagui, Medellín, Colombia  127  Unhealthy SG   \n",
       "4                    Slavonski Brod-2, Croatia    7          Good   \n",
       "\n",
       "                 Time  \n",
       "0 2020-03-30 23:00:00  \n",
       "1 2020-03-30 17:00:00  \n",
       "2 2020-03-30 11:00:00  \n",
       "3 2020-03-30 10:00:00  \n",
       "4 2020-03-30 15:00:00  "
      ]
     },
     "metadata": {},
     "output_type": "display_data"
    },
    {
     "name": "stdout",
     "output_type": "stream",
     "text": [
      "Shape : (23, 4)\n"
     ]
    }
   ],
   "source": [
    "data_1 = pd.read_csv(table_1_path, header=None)\n",
    "data_1 = data_1.transpose()\n",
    "data_1.columns = header_1\n",
    "data_1.set_index(\"City\")\n",
    "data_1['Time'] = pd.to_datetime(data_1['Time'])\n",
    "data_1 = data_1.astype({\"City\": str, \"AQI\": int, \"Labels\": str})\n",
    "\n",
    "display(data_1.head())\n",
    "print(\"Shape :\", data_1.shape)"
   ]
  },
  {
   "cell_type": "code",
   "execution_count": 14,
   "metadata": {},
   "outputs": [
    {
     "data": {
      "text/html": [
       "<div>\n",
       "<style scoped>\n",
       "    .dataframe tbody tr th:only-of-type {\n",
       "        vertical-align: middle;\n",
       "    }\n",
       "\n",
       "    .dataframe tbody tr th {\n",
       "        vertical-align: top;\n",
       "    }\n",
       "\n",
       "    .dataframe thead th {\n",
       "        text-align: right;\n",
       "    }\n",
       "</style>\n",
       "<table border=\"1\" class=\"dataframe\">\n",
       "  <thead>\n",
       "    <tr style=\"text-align: right;\">\n",
       "      <th></th>\n",
       "      <th>City</th>\n",
       "      <th>H</th>\n",
       "      <th>NO2</th>\n",
       "      <th>O3</th>\n",
       "      <th>P</th>\n",
       "      <th>PM10</th>\n",
       "      <th>PM25</th>\n",
       "      <th>SO2</th>\n",
       "    </tr>\n",
       "  </thead>\n",
       "  <tbody>\n",
       "    <tr>\n",
       "      <td>0</td>\n",
       "      <td>City EPA, Baicheng (白城市环保局)</td>\n",
       "      <td>90.2</td>\n",
       "      <td>39.8</td>\n",
       "      <td>39.8</td>\n",
       "      <td>1009.1</td>\n",
       "      <td>239.0</td>\n",
       "      <td>363.0</td>\n",
       "      <td>6.6</td>\n",
       "    </tr>\n",
       "    <tr>\n",
       "      <td>1</td>\n",
       "      <td>Berlin, Germany</td>\n",
       "      <td>85.0</td>\n",
       "      <td>27.0</td>\n",
       "      <td>17.5</td>\n",
       "      <td>1025.0</td>\n",
       "      <td>11.0</td>\n",
       "      <td>0.0</td>\n",
       "      <td>0.0</td>\n",
       "    </tr>\n",
       "    <tr>\n",
       "      <td>2</td>\n",
       "      <td>Chatham, Ontario, Canada</td>\n",
       "      <td>80.0</td>\n",
       "      <td>3.0</td>\n",
       "      <td>25.6</td>\n",
       "      <td>1011.2</td>\n",
       "      <td>0.0</td>\n",
       "      <td>17.0</td>\n",
       "      <td>0.0</td>\n",
       "    </tr>\n",
       "    <tr>\n",
       "      <td>3</td>\n",
       "      <td>Casa de Justicia Itagui, Medellín, Colombia</td>\n",
       "      <td>90.0</td>\n",
       "      <td>15.6</td>\n",
       "      <td>0.0</td>\n",
       "      <td>1026.8</td>\n",
       "      <td>0.0</td>\n",
       "      <td>127.0</td>\n",
       "      <td>0.0</td>\n",
       "    </tr>\n",
       "    <tr>\n",
       "      <td>4</td>\n",
       "      <td>Slavonski Brod-2, Croatia</td>\n",
       "      <td>52.0</td>\n",
       "      <td>0.0</td>\n",
       "      <td>0.0</td>\n",
       "      <td>1021.2</td>\n",
       "      <td>7.0</td>\n",
       "      <td>0.0</td>\n",
       "      <td>0.8</td>\n",
       "    </tr>\n",
       "  </tbody>\n",
       "</table>\n",
       "</div>"
      ],
      "text/plain": [
       "                                          City     H   NO2    O3       P  \\\n",
       "0                  City EPA, Baicheng (白城市环保局)  90.2  39.8  39.8  1009.1   \n",
       "1                              Berlin, Germany  85.0  27.0  17.5  1025.0   \n",
       "2                     Chatham, Ontario, Canada  80.0   3.0  25.6  1011.2   \n",
       "3  Casa de Justicia Itagui, Medellín, Colombia  90.0  15.6   0.0  1026.8   \n",
       "4                    Slavonski Brod-2, Croatia  52.0   0.0   0.0  1021.2   \n",
       "\n",
       "    PM10   PM25  SO2  \n",
       "0  239.0  363.0  6.6  \n",
       "1   11.0    0.0  0.0  \n",
       "2    0.0   17.0  0.0  \n",
       "3    0.0  127.0  0.0  \n",
       "4    7.0    0.0  0.8  "
      ]
     },
     "metadata": {},
     "output_type": "display_data"
    },
    {
     "name": "stdout",
     "output_type": "stream",
     "text": [
      "Shape : (23, 8)\n"
     ]
    }
   ],
   "source": [
    "data_2 = pd.read_csv(table_2_path, header=None)\n",
    "data_2 = data_2.transpose()\n",
    "data_2.columns = header_2\n",
    "data_2 = data_2.astype({\"City\": str, \"H\": float, \"NO2\": float, \"O3\": float, \"P\": float, \"PM10\": float, \"PM25\": float, \"SO2\": float})\n",
    "\n",
    "display(data_2.head())\n",
    "print(\"Shape :\", data_2.shape)"
   ]
  },
  {
   "cell_type": "markdown",
   "metadata": {},
   "source": [
    "Combining the dataframe for doing pre processing. "
   ]
  },
  {
   "cell_type": "code",
   "execution_count": 15,
   "metadata": {},
   "outputs": [
    {
     "data": {
      "text/html": [
       "<div>\n",
       "<style scoped>\n",
       "    .dataframe tbody tr th:only-of-type {\n",
       "        vertical-align: middle;\n",
       "    }\n",
       "\n",
       "    .dataframe tbody tr th {\n",
       "        vertical-align: top;\n",
       "    }\n",
       "\n",
       "    .dataframe thead th {\n",
       "        text-align: right;\n",
       "    }\n",
       "</style>\n",
       "<table border=\"1\" class=\"dataframe\">\n",
       "  <thead>\n",
       "    <tr style=\"text-align: right;\">\n",
       "      <th></th>\n",
       "      <th>City</th>\n",
       "      <th>AQI</th>\n",
       "      <th>Labels</th>\n",
       "      <th>Time</th>\n",
       "      <th>H</th>\n",
       "      <th>NO2</th>\n",
       "      <th>O3</th>\n",
       "      <th>P</th>\n",
       "      <th>PM10</th>\n",
       "      <th>PM25</th>\n",
       "      <th>SO2</th>\n",
       "    </tr>\n",
       "  </thead>\n",
       "  <tbody>\n",
       "    <tr>\n",
       "      <td>0</td>\n",
       "      <td>City EPA, Baicheng (白城市环保局)</td>\n",
       "      <td>363</td>\n",
       "      <td>Hazardous</td>\n",
       "      <td>2020-03-30 23:00:00</td>\n",
       "      <td>90.2</td>\n",
       "      <td>39.8</td>\n",
       "      <td>39.8</td>\n",
       "      <td>1009.1</td>\n",
       "      <td>239.0</td>\n",
       "      <td>363.0</td>\n",
       "      <td>6.6</td>\n",
       "    </tr>\n",
       "    <tr>\n",
       "      <td>1</td>\n",
       "      <td>Berlin, Germany</td>\n",
       "      <td>18</td>\n",
       "      <td>Good</td>\n",
       "      <td>2020-03-30 17:00:00</td>\n",
       "      <td>85.0</td>\n",
       "      <td>27.0</td>\n",
       "      <td>17.5</td>\n",
       "      <td>1025.0</td>\n",
       "      <td>11.0</td>\n",
       "      <td>0.0</td>\n",
       "      <td>0.0</td>\n",
       "    </tr>\n",
       "    <tr>\n",
       "      <td>2</td>\n",
       "      <td>Chatham, Ontario, Canada</td>\n",
       "      <td>26</td>\n",
       "      <td>Good</td>\n",
       "      <td>2020-03-30 11:00:00</td>\n",
       "      <td>80.0</td>\n",
       "      <td>3.0</td>\n",
       "      <td>25.6</td>\n",
       "      <td>1011.2</td>\n",
       "      <td>0.0</td>\n",
       "      <td>17.0</td>\n",
       "      <td>0.0</td>\n",
       "    </tr>\n",
       "    <tr>\n",
       "      <td>3</td>\n",
       "      <td>Casa de Justicia Itagui, Medellín, Colombia</td>\n",
       "      <td>127</td>\n",
       "      <td>Unhealthy SG</td>\n",
       "      <td>2020-03-30 10:00:00</td>\n",
       "      <td>90.0</td>\n",
       "      <td>15.6</td>\n",
       "      <td>0.0</td>\n",
       "      <td>1026.8</td>\n",
       "      <td>0.0</td>\n",
       "      <td>127.0</td>\n",
       "      <td>0.0</td>\n",
       "    </tr>\n",
       "    <tr>\n",
       "      <td>4</td>\n",
       "      <td>Slavonski Brod-2, Croatia</td>\n",
       "      <td>7</td>\n",
       "      <td>Good</td>\n",
       "      <td>2020-03-30 15:00:00</td>\n",
       "      <td>52.0</td>\n",
       "      <td>0.0</td>\n",
       "      <td>0.0</td>\n",
       "      <td>1021.2</td>\n",
       "      <td>7.0</td>\n",
       "      <td>0.0</td>\n",
       "      <td>0.8</td>\n",
       "    </tr>\n",
       "  </tbody>\n",
       "</table>\n",
       "</div>"
      ],
      "text/plain": [
       "                                          City  AQI        Labels  \\\n",
       "0                  City EPA, Baicheng (白城市环保局)  363     Hazardous   \n",
       "1                              Berlin, Germany   18          Good   \n",
       "2                     Chatham, Ontario, Canada   26          Good   \n",
       "3  Casa de Justicia Itagui, Medellín, Colombia  127  Unhealthy SG   \n",
       "4                    Slavonski Brod-2, Croatia    7          Good   \n",
       "\n",
       "                 Time     H   NO2    O3       P   PM10   PM25  SO2  \n",
       "0 2020-03-30 23:00:00  90.2  39.8  39.8  1009.1  239.0  363.0  6.6  \n",
       "1 2020-03-30 17:00:00  85.0  27.0  17.5  1025.0   11.0    0.0  0.0  \n",
       "2 2020-03-30 11:00:00  80.0   3.0  25.6  1011.2    0.0   17.0  0.0  \n",
       "3 2020-03-30 10:00:00  90.0  15.6   0.0  1026.8    0.0  127.0  0.0  \n",
       "4 2020-03-30 15:00:00  52.0   0.0   0.0  1021.2    7.0    0.0  0.8  "
      ]
     },
     "metadata": {},
     "output_type": "display_data"
    },
    {
     "name": "stdout",
     "output_type": "stream",
     "text": [
      "(23, 11)\n"
     ]
    }
   ],
   "source": [
    "data_2_new = data_2.drop(columns=\"City\")\n",
    "full_data = pd.concat([data_1, data_2_new], axis=1)\n",
    "display(full_data.head())\n",
    "print(full_data.shape)"
   ]
  },
  {
   "cell_type": "markdown",
   "metadata": {},
   "source": [
    "Extracting the rows with AQI = 999\n"
   ]
  },
  {
   "cell_type": "code",
   "execution_count": 16,
   "metadata": {},
   "outputs": [
    {
     "name": "stdout",
     "output_type": "stream",
     "text": [
      "List of Outlier :  []\n"
     ]
    }
   ],
   "source": [
    "outlier = full_data.index[full_data['AQI'] == 999].tolist()\n",
    "print(\"List of Outlier : \", outlier)"
   ]
  },
  {
   "cell_type": "code",
   "execution_count": 17,
   "metadata": {},
   "outputs": [
    {
     "data": {
      "text/html": [
       "<div>\n",
       "<style scoped>\n",
       "    .dataframe tbody tr th:only-of-type {\n",
       "        vertical-align: middle;\n",
       "    }\n",
       "\n",
       "    .dataframe tbody tr th {\n",
       "        vertical-align: top;\n",
       "    }\n",
       "\n",
       "    .dataframe thead th {\n",
       "        text-align: right;\n",
       "    }\n",
       "</style>\n",
       "<table border=\"1\" class=\"dataframe\">\n",
       "  <thead>\n",
       "    <tr style=\"text-align: right;\">\n",
       "      <th></th>\n",
       "      <th>City</th>\n",
       "      <th>AQI</th>\n",
       "      <th>Labels</th>\n",
       "      <th>Time</th>\n",
       "      <th>H</th>\n",
       "      <th>NO2</th>\n",
       "      <th>O3</th>\n",
       "      <th>P</th>\n",
       "      <th>PM10</th>\n",
       "      <th>PM25</th>\n",
       "      <th>SO2</th>\n",
       "    </tr>\n",
       "  </thead>\n",
       "  <tbody>\n",
       "    <tr>\n",
       "      <td>0</td>\n",
       "      <td>City EPA, Baicheng (白城市环保局)</td>\n",
       "      <td>363</td>\n",
       "      <td>Hazardous</td>\n",
       "      <td>2020-03-30 23:00:00</td>\n",
       "      <td>90.20</td>\n",
       "      <td>39.8</td>\n",
       "      <td>39.8</td>\n",
       "      <td>1009.1</td>\n",
       "      <td>239.0</td>\n",
       "      <td>363.0</td>\n",
       "      <td>6.6</td>\n",
       "    </tr>\n",
       "    <tr>\n",
       "      <td>1</td>\n",
       "      <td>Berlin, Germany</td>\n",
       "      <td>18</td>\n",
       "      <td>Good</td>\n",
       "      <td>2020-03-30 17:00:00</td>\n",
       "      <td>85.00</td>\n",
       "      <td>27.0</td>\n",
       "      <td>17.5</td>\n",
       "      <td>1025.0</td>\n",
       "      <td>11.0</td>\n",
       "      <td>0.0</td>\n",
       "      <td>0.0</td>\n",
       "    </tr>\n",
       "    <tr>\n",
       "      <td>2</td>\n",
       "      <td>Chatham, Ontario, Canada</td>\n",
       "      <td>26</td>\n",
       "      <td>Good</td>\n",
       "      <td>2020-03-30 11:00:00</td>\n",
       "      <td>80.00</td>\n",
       "      <td>3.0</td>\n",
       "      <td>25.6</td>\n",
       "      <td>1011.2</td>\n",
       "      <td>0.0</td>\n",
       "      <td>17.0</td>\n",
       "      <td>0.0</td>\n",
       "    </tr>\n",
       "    <tr>\n",
       "      <td>3</td>\n",
       "      <td>Casa de Justicia Itagui, Medellín, Colombia</td>\n",
       "      <td>127</td>\n",
       "      <td>Unhealthy SG</td>\n",
       "      <td>2020-03-30 10:00:00</td>\n",
       "      <td>90.00</td>\n",
       "      <td>15.6</td>\n",
       "      <td>0.0</td>\n",
       "      <td>1026.8</td>\n",
       "      <td>0.0</td>\n",
       "      <td>127.0</td>\n",
       "      <td>0.0</td>\n",
       "    </tr>\n",
       "    <tr>\n",
       "      <td>4</td>\n",
       "      <td>Slavonski Brod-2, Croatia</td>\n",
       "      <td>7</td>\n",
       "      <td>Good</td>\n",
       "      <td>2020-03-30 15:00:00</td>\n",
       "      <td>52.00</td>\n",
       "      <td>0.0</td>\n",
       "      <td>0.0</td>\n",
       "      <td>1021.2</td>\n",
       "      <td>7.0</td>\n",
       "      <td>0.0</td>\n",
       "      <td>0.8</td>\n",
       "    </tr>\n",
       "    <tr>\n",
       "      <td>5</td>\n",
       "      <td>Rathmines, Ireland</td>\n",
       "      <td>26</td>\n",
       "      <td>Good</td>\n",
       "      <td>2020-03-30 14:00:00</td>\n",
       "      <td>68.20</td>\n",
       "      <td>10.6</td>\n",
       "      <td>24.6</td>\n",
       "      <td>1039.0</td>\n",
       "      <td>11.0</td>\n",
       "      <td>26.0</td>\n",
       "      <td>0.6</td>\n",
       "    </tr>\n",
       "    <tr>\n",
       "      <td>6</td>\n",
       "      <td>Kóp. Dalsm., Iceland</td>\n",
       "      <td>12</td>\n",
       "      <td>Good</td>\n",
       "      <td>2020-03-30 15:00:00</td>\n",
       "      <td>75.00</td>\n",
       "      <td>1.4</td>\n",
       "      <td>0.0</td>\n",
       "      <td>1035.0</td>\n",
       "      <td>12.0</td>\n",
       "      <td>8.0</td>\n",
       "      <td>1.1</td>\n",
       "    </tr>\n",
       "    <tr>\n",
       "      <td>7</td>\n",
       "      <td>Samarinda, Indonesia</td>\n",
       "      <td>13</td>\n",
       "      <td>Good</td>\n",
       "      <td>2019-12-20 22:00:00</td>\n",
       "      <td>91.50</td>\n",
       "      <td>0.0</td>\n",
       "      <td>0.0</td>\n",
       "      <td>1009.4</td>\n",
       "      <td>13.0</td>\n",
       "      <td>0.0</td>\n",
       "      <td>0.0</td>\n",
       "    </tr>\n",
       "    <tr>\n",
       "      <td>8</td>\n",
       "      <td>Makiminato, Urasoe, Okinawa, Japan (牧港浦添市)</td>\n",
       "      <td>20</td>\n",
       "      <td>Good</td>\n",
       "      <td>2020-03-30 23:00:00</td>\n",
       "      <td>94.00</td>\n",
       "      <td>1.0</td>\n",
       "      <td>32.8</td>\n",
       "      <td>1014.5</td>\n",
       "      <td>20.0</td>\n",
       "      <td>17.0</td>\n",
       "      <td>1.5</td>\n",
       "    </tr>\n",
       "    <tr>\n",
       "      <td>9</td>\n",
       "      <td>London</td>\n",
       "      <td>43</td>\n",
       "      <td>Good</td>\n",
       "      <td>2020-03-30 14:00:00</td>\n",
       "      <td>69.00</td>\n",
       "      <td>13.2</td>\n",
       "      <td>25.3</td>\n",
       "      <td>1031.9</td>\n",
       "      <td>15.0</td>\n",
       "      <td>43.0</td>\n",
       "      <td>0.8</td>\n",
       "    </tr>\n",
       "    <tr>\n",
       "      <td>10</td>\n",
       "      <td>Merced, México, Mexico</td>\n",
       "      <td>117</td>\n",
       "      <td>Unhealthy SG</td>\n",
       "      <td>2020-03-30 09:00:00</td>\n",
       "      <td>63.00</td>\n",
       "      <td>24.1</td>\n",
       "      <td>9.6</td>\n",
       "      <td>1028.4</td>\n",
       "      <td>64.0</td>\n",
       "      <td>117.0</td>\n",
       "      <td>17.2</td>\n",
       "    </tr>\n",
       "    <tr>\n",
       "      <td>11</td>\n",
       "      <td>Minnesundvegen Gjovik, Gjovik, Norway</td>\n",
       "      <td>49</td>\n",
       "      <td>Good</td>\n",
       "      <td>2020-03-30 16:00:00</td>\n",
       "      <td>58.80</td>\n",
       "      <td>8.6</td>\n",
       "      <td>0.0</td>\n",
       "      <td>1031.1</td>\n",
       "      <td>49.0</td>\n",
       "      <td>17.0</td>\n",
       "      <td>0.0</td>\n",
       "    </tr>\n",
       "    <tr>\n",
       "      <td>12</td>\n",
       "      <td>Paris</td>\n",
       "      <td>31</td>\n",
       "      <td>Good</td>\n",
       "      <td>2020-03-30 15:00:00</td>\n",
       "      <td>35.20</td>\n",
       "      <td>17.4</td>\n",
       "      <td>35.0</td>\n",
       "      <td>1025.5</td>\n",
       "      <td>11.0</td>\n",
       "      <td>31.0</td>\n",
       "      <td>0.3</td>\n",
       "    </tr>\n",
       "    <tr>\n",
       "      <td>13</td>\n",
       "      <td>Joaquim Magalhães, Faro, Portugal</td>\n",
       "      <td>25</td>\n",
       "      <td>Good</td>\n",
       "      <td>2020-03-30 09:00:00</td>\n",
       "      <td>93.00</td>\n",
       "      <td>9.7</td>\n",
       "      <td>25.1</td>\n",
       "      <td>1011.0</td>\n",
       "      <td>21.0</td>\n",
       "      <td>45.0</td>\n",
       "      <td>0.0</td>\n",
       "    </tr>\n",
       "    <tr>\n",
       "      <td>14</td>\n",
       "      <td>Kojuhovo, Moscow, Moscow, Russia (Кожухово, Мо...</td>\n",
       "      <td>53</td>\n",
       "      <td>Moderate</td>\n",
       "      <td>2020-03-10 14:00:00</td>\n",
       "      <td>93.00</td>\n",
       "      <td>24.1</td>\n",
       "      <td>1.1</td>\n",
       "      <td>1010.0</td>\n",
       "      <td>18.0</td>\n",
       "      <td>53.0</td>\n",
       "      <td>2.6</td>\n",
       "    </tr>\n",
       "    <tr>\n",
       "      <td>15</td>\n",
       "      <td>South, Singapore</td>\n",
       "      <td>53</td>\n",
       "      <td>Moderate</td>\n",
       "      <td>2020-03-31 00:00:00</td>\n",
       "      <td>74.00</td>\n",
       "      <td>0.0</td>\n",
       "      <td>20.0</td>\n",
       "      <td>1010.0</td>\n",
       "      <td>22.0</td>\n",
       "      <td>53.0</td>\n",
       "      <td>3.0</td>\n",
       "    </tr>\n",
       "    <tr>\n",
       "      <td>16</td>\n",
       "      <td>Barcelona (Poblenou), Catalunya, Spain</td>\n",
       "      <td>18</td>\n",
       "      <td>Good</td>\n",
       "      <td>2020-03-30 17:00:00</td>\n",
       "      <td>82.30</td>\n",
       "      <td>9.2</td>\n",
       "      <td>25.0</td>\n",
       "      <td>1015.0</td>\n",
       "      <td>18.0</td>\n",
       "      <td>0.0</td>\n",
       "      <td>0.0</td>\n",
       "    </tr>\n",
       "    <tr>\n",
       "      <td>17</td>\n",
       "      <td>Sundsvall Köpmangatan, Sweden</td>\n",
       "      <td>30</td>\n",
       "      <td>Good</td>\n",
       "      <td>2020-03-30 16:00:00</td>\n",
       "      <td>12.40</td>\n",
       "      <td>0.0</td>\n",
       "      <td>0.0</td>\n",
       "      <td>1040.9</td>\n",
       "      <td>30.0</td>\n",
       "      <td>19.0</td>\n",
       "      <td>0.0</td>\n",
       "    </tr>\n",
       "    <tr>\n",
       "      <td>18</td>\n",
       "      <td>Cook And Phillip Sydney East</td>\n",
       "      <td>7</td>\n",
       "      <td>Good</td>\n",
       "      <td>2020-03-31 00:00:00</td>\n",
       "      <td>75.80</td>\n",
       "      <td>16.7</td>\n",
       "      <td>0.8</td>\n",
       "      <td>1006.6</td>\n",
       "      <td>6.0</td>\n",
       "      <td>7.0</td>\n",
       "      <td>1.5</td>\n",
       "    </tr>\n",
       "    <tr>\n",
       "      <td>19</td>\n",
       "      <td>Rize, Turkey</td>\n",
       "      <td>52</td>\n",
       "      <td>Moderate</td>\n",
       "      <td>2020-03-30 16:00:00</td>\n",
       "      <td>87.00</td>\n",
       "      <td>7.2</td>\n",
       "      <td>20.0</td>\n",
       "      <td>1012.0</td>\n",
       "      <td>12.0</td>\n",
       "      <td>52.0</td>\n",
       "      <td>2.1</td>\n",
       "    </tr>\n",
       "    <tr>\n",
       "      <td>20</td>\n",
       "      <td>Kampala US Embassy, Uganda</td>\n",
       "      <td>82</td>\n",
       "      <td>Moderate</td>\n",
       "      <td>2020-03-30 18:00:00</td>\n",
       "      <td>65.00</td>\n",
       "      <td>0.0</td>\n",
       "      <td>0.0</td>\n",
       "      <td>1013.0</td>\n",
       "      <td>0.0</td>\n",
       "      <td>82.0</td>\n",
       "      <td>0.0</td>\n",
       "    </tr>\n",
       "    <tr>\n",
       "      <td>21</td>\n",
       "      <td>vulicya Soborna, 163, Irpin, Ukraine (Luftdate...</td>\n",
       "      <td>57</td>\n",
       "      <td>Moderate</td>\n",
       "      <td>2020-03-30 20:00:00</td>\n",
       "      <td>61.98</td>\n",
       "      <td>0.0</td>\n",
       "      <td>0.0</td>\n",
       "      <td>1010.0</td>\n",
       "      <td>24.0</td>\n",
       "      <td>57.0</td>\n",
       "      <td>0.0</td>\n",
       "    </tr>\n",
       "    <tr>\n",
       "      <td>22</td>\n",
       "      <td>Hiekkatekonurmi, Valkeakoski</td>\n",
       "      <td>19</td>\n",
       "      <td>Good</td>\n",
       "      <td>2018-04-05 10:00:00</td>\n",
       "      <td>0.00</td>\n",
       "      <td>1.9</td>\n",
       "      <td>0.0</td>\n",
       "      <td>0.0</td>\n",
       "      <td>6.0</td>\n",
       "      <td>19.0</td>\n",
       "      <td>0.0</td>\n",
       "    </tr>\n",
       "  </tbody>\n",
       "</table>\n",
       "</div>"
      ],
      "text/plain": [
       "                                                 City  AQI        Labels  \\\n",
       "0                         City EPA, Baicheng (白城市环保局)  363     Hazardous   \n",
       "1                                     Berlin, Germany   18          Good   \n",
       "2                            Chatham, Ontario, Canada   26          Good   \n",
       "3         Casa de Justicia Itagui, Medellín, Colombia  127  Unhealthy SG   \n",
       "4                           Slavonski Brod-2, Croatia    7          Good   \n",
       "5                                  Rathmines, Ireland   26          Good   \n",
       "6                                Kóp. Dalsm., Iceland   12          Good   \n",
       "7                                Samarinda, Indonesia   13          Good   \n",
       "8          Makiminato, Urasoe, Okinawa, Japan (牧港浦添市)   20          Good   \n",
       "9                                              London   43          Good   \n",
       "10                             Merced, México, Mexico  117  Unhealthy SG   \n",
       "11              Minnesundvegen Gjovik, Gjovik, Norway   49          Good   \n",
       "12                                              Paris   31          Good   \n",
       "13                  Joaquim Magalhães, Faro, Portugal   25          Good   \n",
       "14  Kojuhovo, Moscow, Moscow, Russia (Кожухово, Мо...   53      Moderate   \n",
       "15                                   South, Singapore   53      Moderate   \n",
       "16             Barcelona (Poblenou), Catalunya, Spain   18          Good   \n",
       "17                      Sundsvall Köpmangatan, Sweden   30          Good   \n",
       "18                       Cook And Phillip Sydney East    7          Good   \n",
       "19                                       Rize, Turkey   52      Moderate   \n",
       "20                         Kampala US Embassy, Uganda   82      Moderate   \n",
       "21  vulicya Soborna, 163, Irpin, Ukraine (Luftdate...   57      Moderate   \n",
       "22                       Hiekkatekonurmi, Valkeakoski   19          Good   \n",
       "\n",
       "                  Time      H   NO2    O3       P   PM10   PM25   SO2  \n",
       "0  2020-03-30 23:00:00  90.20  39.8  39.8  1009.1  239.0  363.0   6.6  \n",
       "1  2020-03-30 17:00:00  85.00  27.0  17.5  1025.0   11.0    0.0   0.0  \n",
       "2  2020-03-30 11:00:00  80.00   3.0  25.6  1011.2    0.0   17.0   0.0  \n",
       "3  2020-03-30 10:00:00  90.00  15.6   0.0  1026.8    0.0  127.0   0.0  \n",
       "4  2020-03-30 15:00:00  52.00   0.0   0.0  1021.2    7.0    0.0   0.8  \n",
       "5  2020-03-30 14:00:00  68.20  10.6  24.6  1039.0   11.0   26.0   0.6  \n",
       "6  2020-03-30 15:00:00  75.00   1.4   0.0  1035.0   12.0    8.0   1.1  \n",
       "7  2019-12-20 22:00:00  91.50   0.0   0.0  1009.4   13.0    0.0   0.0  \n",
       "8  2020-03-30 23:00:00  94.00   1.0  32.8  1014.5   20.0   17.0   1.5  \n",
       "9  2020-03-30 14:00:00  69.00  13.2  25.3  1031.9   15.0   43.0   0.8  \n",
       "10 2020-03-30 09:00:00  63.00  24.1   9.6  1028.4   64.0  117.0  17.2  \n",
       "11 2020-03-30 16:00:00  58.80   8.6   0.0  1031.1   49.0   17.0   0.0  \n",
       "12 2020-03-30 15:00:00  35.20  17.4  35.0  1025.5   11.0   31.0   0.3  \n",
       "13 2020-03-30 09:00:00  93.00   9.7  25.1  1011.0   21.0   45.0   0.0  \n",
       "14 2020-03-10 14:00:00  93.00  24.1   1.1  1010.0   18.0   53.0   2.6  \n",
       "15 2020-03-31 00:00:00  74.00   0.0  20.0  1010.0   22.0   53.0   3.0  \n",
       "16 2020-03-30 17:00:00  82.30   9.2  25.0  1015.0   18.0    0.0   0.0  \n",
       "17 2020-03-30 16:00:00  12.40   0.0   0.0  1040.9   30.0   19.0   0.0  \n",
       "18 2020-03-31 00:00:00  75.80  16.7   0.8  1006.6    6.0    7.0   1.5  \n",
       "19 2020-03-30 16:00:00  87.00   7.2  20.0  1012.0   12.0   52.0   2.1  \n",
       "20 2020-03-30 18:00:00  65.00   0.0   0.0  1013.0    0.0   82.0   0.0  \n",
       "21 2020-03-30 20:00:00  61.98   0.0   0.0  1010.0   24.0   57.0   0.0  \n",
       "22 2018-04-05 10:00:00   0.00   1.9   0.0     0.0    6.0   19.0   0.0  "
      ]
     },
     "metadata": {},
     "output_type": "display_data"
    },
    {
     "name": "stdout",
     "output_type": "stream",
     "text": [
      "Shape (clean_full_data) :  (23, 11)\n",
      "Shape (clean_data_1) :  (23, 4)\n",
      "Shape (clean_data_2) :  (23, 8)\n"
     ]
    }
   ],
   "source": [
    "clean_data_1 = data_1.drop(full_data.index[outlier])\n",
    "clean_data_2 = data_2.drop(full_data.index[outlier])\n",
    "clean_full_data = full_data.drop(full_data.index[outlier])\n",
    "display(clean_full_data)\n",
    "print(\"Shape (clean_full_data) : \", clean_full_data.shape)\n",
    "print(\"Shape (clean_data_1) : \", clean_data_1.shape)\n",
    "print(\"Shape (clean_data_2) : \", clean_data_2.shape)"
   ]
  },
  {
   "cell_type": "markdown",
   "metadata": {},
   "source": [
    "<P>\n",
    "Since, here we see that there are no null values in the data and all the types of the attributes are correct. Thus, now it is completely and correctly collected. The data has been cleaned and processed. It is now ready to be analysed.\n",
    "</P>"
   ]
  },
  {
   "cell_type": "code",
   "execution_count": 18,
   "metadata": {
    "scrolled": true
   },
   "outputs": [
    {
     "data": {
      "text/plain": [
       "City      0\n",
       "AQI       0\n",
       "Labels    0\n",
       "Time      0\n",
       "H         0\n",
       "NO2       0\n",
       "O3        0\n",
       "P         0\n",
       "PM10      0\n",
       "PM25      0\n",
       "SO2       0\n",
       "dtype: int64"
      ]
     },
     "execution_count": 18,
     "metadata": {},
     "output_type": "execute_result"
    }
   ],
   "source": [
    "full_data.isnull().sum()"
   ]
  },
  {
   "cell_type": "code",
   "execution_count": 19,
   "metadata": {
    "scrolled": true
   },
   "outputs": [
    {
     "data": {
      "text/plain": [
       "float64           7\n",
       "object            2\n",
       "datetime64[ns]    1\n",
       "int32             1\n",
       "dtype: int64"
      ]
     },
     "execution_count": 19,
     "metadata": {},
     "output_type": "execute_result"
    }
   ],
   "source": [
    "full_data.dtypes.value_counts() "
   ]
  },
  {
   "cell_type": "markdown",
   "metadata": {},
   "source": [
    "<B> Delhi and PM 25 data </B>\n",
    "<P> \n",
    "Since I collected and manually created a CSV file for the data for Delhi over a period of 17 days, the file was complete and hence it didn’t require any cleaning or processing.\n",
    "</P>"
   ]
  },
  {
   "cell_type": "code",
   "execution_count": 20,
   "metadata": {},
   "outputs": [
    {
     "data": {
      "text/html": [
       "<div>\n",
       "<style scoped>\n",
       "    .dataframe tbody tr th:only-of-type {\n",
       "        vertical-align: middle;\n",
       "    }\n",
       "\n",
       "    .dataframe tbody tr th {\n",
       "        vertical-align: top;\n",
       "    }\n",
       "\n",
       "    .dataframe thead th {\n",
       "        text-align: right;\n",
       "    }\n",
       "</style>\n",
       "<table border=\"1\" class=\"dataframe\">\n",
       "  <thead>\n",
       "    <tr style=\"text-align: right;\">\n",
       "      <th></th>\n",
       "      <th>Date</th>\n",
       "      <th>PM25</th>\n",
       "    </tr>\n",
       "  </thead>\n",
       "  <tbody>\n",
       "    <tr>\n",
       "      <td>0</td>\n",
       "      <td>14-03-2020</td>\n",
       "      <td>139</td>\n",
       "    </tr>\n",
       "    <tr>\n",
       "      <td>1</td>\n",
       "      <td>15-03-2020</td>\n",
       "      <td>107</td>\n",
       "    </tr>\n",
       "    <tr>\n",
       "      <td>2</td>\n",
       "      <td>16-03-2020</td>\n",
       "      <td>140</td>\n",
       "    </tr>\n",
       "    <tr>\n",
       "      <td>3</td>\n",
       "      <td>17-03-2020</td>\n",
       "      <td>141</td>\n",
       "    </tr>\n",
       "    <tr>\n",
       "      <td>4</td>\n",
       "      <td>18-03-2020</td>\n",
       "      <td>142</td>\n",
       "    </tr>\n",
       "  </tbody>\n",
       "</table>\n",
       "</div>"
      ],
      "text/plain": [
       "         Date  PM25\n",
       "0  14-03-2020   139\n",
       "1  15-03-2020   107\n",
       "2  16-03-2020   140\n",
       "3  17-03-2020   141\n",
       "4  18-03-2020   142"
      ]
     },
     "metadata": {},
     "output_type": "display_data"
    },
    {
     "name": "stdout",
     "output_type": "stream",
     "text": [
      "(17, 2)\n"
     ]
    }
   ],
   "source": [
    "table_delhi_path = csv_path+\"table_delhi.csv\"\n",
    "data_delhi = pd.read_csv(table_delhi_path)\n",
    "display(data_delhi.head())\n",
    "print(data_delhi.shape)"
   ]
  },
  {
   "cell_type": "markdown",
   "metadata": {},
   "source": [
    "## Task 5: Analyse and summarise the cleaned dataset"
   ]
  },
  {
   "cell_type": "markdown",
   "metadata": {},
   "source": [
    "<P>\n",
    "In the below table I have summarized the initial table (full_data) on which on pre processing was done. Below this there is another summary of the (clean_full_data) table which is the cleaned and processed form of full_data.\n",
    "\n",
    "It will be observed that the summary for AQI is not correct and is biased towards the outlier value (999). The mean and standard deviation are largely affected with the outlier being present in the table. All other columns as could be seen have a minimum value 0. Practically, it is not possible for any gas to have a zero composition. I decided to give them a zero because, even if I would have given the cells an average value of the entire column that could have resulted in a bias and the interactions of these gases with each other would have been difficult to analyse. \n",
    "\n",
    "With removal of the outlier from the table, the mean and the deviation values improved. Thus, it was essential to treat the collected data that didn’t have the AQI values.\n",
    "</P>"
   ]
  },
  {
   "cell_type": "code",
   "execution_count": 21,
   "metadata": {},
   "outputs": [
    {
     "name": "stdout",
     "output_type": "stream",
     "text": [
      "\n",
      "Columnns:\n",
      "Index(['City', 'AQI', 'Labels', 'Time', 'H', 'NO2', 'O3', 'P', 'PM10', 'PM25',\n",
      "       'SO2'],\n",
      "      dtype='object')\n",
      "\n",
      "Descriptive Stats:\n",
      "\n"
     ]
    },
    {
     "data": {
      "text/html": [
       "<div>\n",
       "<style scoped>\n",
       "    .dataframe tbody tr th:only-of-type {\n",
       "        vertical-align: middle;\n",
       "    }\n",
       "\n",
       "    .dataframe tbody tr th {\n",
       "        vertical-align: top;\n",
       "    }\n",
       "\n",
       "    .dataframe thead th {\n",
       "        text-align: right;\n",
       "    }\n",
       "</style>\n",
       "<table border=\"1\" class=\"dataframe\">\n",
       "  <thead>\n",
       "    <tr style=\"text-align: right;\">\n",
       "      <th></th>\n",
       "      <th>AQI</th>\n",
       "      <th>H</th>\n",
       "      <th>NO2</th>\n",
       "      <th>O3</th>\n",
       "      <th>P</th>\n",
       "      <th>PM10</th>\n",
       "      <th>PM25</th>\n",
       "      <th>SO2</th>\n",
       "    </tr>\n",
       "  </thead>\n",
       "  <tbody>\n",
       "    <tr>\n",
       "      <td>count</td>\n",
       "      <td>23.000000</td>\n",
       "      <td>23.000000</td>\n",
       "      <td>23.000000</td>\n",
       "      <td>23.000000</td>\n",
       "      <td>23.000000</td>\n",
       "      <td>23.000000</td>\n",
       "      <td>23.000000</td>\n",
       "      <td>23.000000</td>\n",
       "    </tr>\n",
       "    <tr>\n",
       "      <td>mean</td>\n",
       "      <td>54.260870</td>\n",
       "      <td>69.407826</td>\n",
       "      <td>10.021739</td>\n",
       "      <td>13.139130</td>\n",
       "      <td>975.504348</td>\n",
       "      <td>26.478261</td>\n",
       "      <td>50.130435</td>\n",
       "      <td>1.656522</td>\n",
       "    </tr>\n",
       "    <tr>\n",
       "      <td>std</td>\n",
       "      <td>74.489912</td>\n",
       "      <td>25.006322</td>\n",
       "      <td>10.863532</td>\n",
       "      <td>13.931839</td>\n",
       "      <td>212.919286</td>\n",
       "      <td>48.667583</td>\n",
       "      <td>76.661774</td>\n",
       "      <td>3.716649</td>\n",
       "    </tr>\n",
       "    <tr>\n",
       "      <td>min</td>\n",
       "      <td>7.000000</td>\n",
       "      <td>0.000000</td>\n",
       "      <td>0.000000</td>\n",
       "      <td>0.000000</td>\n",
       "      <td>0.000000</td>\n",
       "      <td>0.000000</td>\n",
       "      <td>0.000000</td>\n",
       "      <td>0.000000</td>\n",
       "    </tr>\n",
       "    <tr>\n",
       "      <td>25%</td>\n",
       "      <td>18.500000</td>\n",
       "      <td>62.490000</td>\n",
       "      <td>0.500000</td>\n",
       "      <td>0.000000</td>\n",
       "      <td>1010.000000</td>\n",
       "      <td>9.000000</td>\n",
       "      <td>12.500000</td>\n",
       "      <td>0.000000</td>\n",
       "    </tr>\n",
       "    <tr>\n",
       "      <td>50%</td>\n",
       "      <td>30.000000</td>\n",
       "      <td>75.000000</td>\n",
       "      <td>8.600000</td>\n",
       "      <td>9.600000</td>\n",
       "      <td>1014.500000</td>\n",
       "      <td>13.000000</td>\n",
       "      <td>26.000000</td>\n",
       "      <td>0.300000</td>\n",
       "    </tr>\n",
       "    <tr>\n",
       "      <td>75%</td>\n",
       "      <td>53.000000</td>\n",
       "      <td>88.500000</td>\n",
       "      <td>16.150000</td>\n",
       "      <td>25.050000</td>\n",
       "      <td>1027.600000</td>\n",
       "      <td>21.500000</td>\n",
       "      <td>53.000000</td>\n",
       "      <td>1.500000</td>\n",
       "    </tr>\n",
       "    <tr>\n",
       "      <td>max</td>\n",
       "      <td>363.000000</td>\n",
       "      <td>94.000000</td>\n",
       "      <td>39.800000</td>\n",
       "      <td>39.800000</td>\n",
       "      <td>1040.900000</td>\n",
       "      <td>239.000000</td>\n",
       "      <td>363.000000</td>\n",
       "      <td>17.200000</td>\n",
       "    </tr>\n",
       "  </tbody>\n",
       "</table>\n",
       "</div>"
      ],
      "text/plain": [
       "              AQI          H        NO2         O3            P        PM10  \\\n",
       "count   23.000000  23.000000  23.000000  23.000000    23.000000   23.000000   \n",
       "mean    54.260870  69.407826  10.021739  13.139130   975.504348   26.478261   \n",
       "std     74.489912  25.006322  10.863532  13.931839   212.919286   48.667583   \n",
       "min      7.000000   0.000000   0.000000   0.000000     0.000000    0.000000   \n",
       "25%     18.500000  62.490000   0.500000   0.000000  1010.000000    9.000000   \n",
       "50%     30.000000  75.000000   8.600000   9.600000  1014.500000   13.000000   \n",
       "75%     53.000000  88.500000  16.150000  25.050000  1027.600000   21.500000   \n",
       "max    363.000000  94.000000  39.800000  39.800000  1040.900000  239.000000   \n",
       "\n",
       "             PM25        SO2  \n",
       "count   23.000000  23.000000  \n",
       "mean    50.130435   1.656522  \n",
       "std     76.661774   3.716649  \n",
       "min      0.000000   0.000000  \n",
       "25%     12.500000   0.000000  \n",
       "50%     26.000000   0.300000  \n",
       "75%     53.000000   1.500000  \n",
       "max    363.000000  17.200000  "
      ]
     },
     "metadata": {},
     "output_type": "display_data"
    }
   ],
   "source": [
    "print(\"\\nColumnns:\\n\" + str(full_data.columns) + \"\\n\")\n",
    "print(\"Descriptive Stats:\\n\")\n",
    "display(full_data.describe())"
   ]
  },
  {
   "cell_type": "code",
   "execution_count": 22,
   "metadata": {},
   "outputs": [
    {
     "name": "stdout",
     "output_type": "stream",
     "text": [
      "\n",
      "Columnns:\n",
      "Index(['City', 'AQI', 'Labels', 'Time', 'H', 'NO2', 'O3', 'P', 'PM10', 'PM25',\n",
      "       'SO2'],\n",
      "      dtype='object')\n",
      "\n",
      "Descriptive Stats:\n",
      "\n"
     ]
    },
    {
     "data": {
      "text/html": [
       "<div>\n",
       "<style scoped>\n",
       "    .dataframe tbody tr th:only-of-type {\n",
       "        vertical-align: middle;\n",
       "    }\n",
       "\n",
       "    .dataframe tbody tr th {\n",
       "        vertical-align: top;\n",
       "    }\n",
       "\n",
       "    .dataframe thead th {\n",
       "        text-align: right;\n",
       "    }\n",
       "</style>\n",
       "<table border=\"1\" class=\"dataframe\">\n",
       "  <thead>\n",
       "    <tr style=\"text-align: right;\">\n",
       "      <th></th>\n",
       "      <th>AQI</th>\n",
       "      <th>H</th>\n",
       "      <th>NO2</th>\n",
       "      <th>O3</th>\n",
       "      <th>P</th>\n",
       "      <th>PM10</th>\n",
       "      <th>PM25</th>\n",
       "      <th>SO2</th>\n",
       "    </tr>\n",
       "  </thead>\n",
       "  <tbody>\n",
       "    <tr>\n",
       "      <td>count</td>\n",
       "      <td>23.000000</td>\n",
       "      <td>23.000000</td>\n",
       "      <td>23.000000</td>\n",
       "      <td>23.000000</td>\n",
       "      <td>23.000000</td>\n",
       "      <td>23.000000</td>\n",
       "      <td>23.000000</td>\n",
       "      <td>23.000000</td>\n",
       "    </tr>\n",
       "    <tr>\n",
       "      <td>mean</td>\n",
       "      <td>54.260870</td>\n",
       "      <td>69.407826</td>\n",
       "      <td>10.021739</td>\n",
       "      <td>13.139130</td>\n",
       "      <td>975.504348</td>\n",
       "      <td>26.478261</td>\n",
       "      <td>50.130435</td>\n",
       "      <td>1.656522</td>\n",
       "    </tr>\n",
       "    <tr>\n",
       "      <td>std</td>\n",
       "      <td>74.489912</td>\n",
       "      <td>25.006322</td>\n",
       "      <td>10.863532</td>\n",
       "      <td>13.931839</td>\n",
       "      <td>212.919286</td>\n",
       "      <td>48.667583</td>\n",
       "      <td>76.661774</td>\n",
       "      <td>3.716649</td>\n",
       "    </tr>\n",
       "    <tr>\n",
       "      <td>min</td>\n",
       "      <td>7.000000</td>\n",
       "      <td>0.000000</td>\n",
       "      <td>0.000000</td>\n",
       "      <td>0.000000</td>\n",
       "      <td>0.000000</td>\n",
       "      <td>0.000000</td>\n",
       "      <td>0.000000</td>\n",
       "      <td>0.000000</td>\n",
       "    </tr>\n",
       "    <tr>\n",
       "      <td>25%</td>\n",
       "      <td>18.500000</td>\n",
       "      <td>62.490000</td>\n",
       "      <td>0.500000</td>\n",
       "      <td>0.000000</td>\n",
       "      <td>1010.000000</td>\n",
       "      <td>9.000000</td>\n",
       "      <td>12.500000</td>\n",
       "      <td>0.000000</td>\n",
       "    </tr>\n",
       "    <tr>\n",
       "      <td>50%</td>\n",
       "      <td>30.000000</td>\n",
       "      <td>75.000000</td>\n",
       "      <td>8.600000</td>\n",
       "      <td>9.600000</td>\n",
       "      <td>1014.500000</td>\n",
       "      <td>13.000000</td>\n",
       "      <td>26.000000</td>\n",
       "      <td>0.300000</td>\n",
       "    </tr>\n",
       "    <tr>\n",
       "      <td>75%</td>\n",
       "      <td>53.000000</td>\n",
       "      <td>88.500000</td>\n",
       "      <td>16.150000</td>\n",
       "      <td>25.050000</td>\n",
       "      <td>1027.600000</td>\n",
       "      <td>21.500000</td>\n",
       "      <td>53.000000</td>\n",
       "      <td>1.500000</td>\n",
       "    </tr>\n",
       "    <tr>\n",
       "      <td>max</td>\n",
       "      <td>363.000000</td>\n",
       "      <td>94.000000</td>\n",
       "      <td>39.800000</td>\n",
       "      <td>39.800000</td>\n",
       "      <td>1040.900000</td>\n",
       "      <td>239.000000</td>\n",
       "      <td>363.000000</td>\n",
       "      <td>17.200000</td>\n",
       "    </tr>\n",
       "  </tbody>\n",
       "</table>\n",
       "</div>"
      ],
      "text/plain": [
       "              AQI          H        NO2         O3            P        PM10  \\\n",
       "count   23.000000  23.000000  23.000000  23.000000    23.000000   23.000000   \n",
       "mean    54.260870  69.407826  10.021739  13.139130   975.504348   26.478261   \n",
       "std     74.489912  25.006322  10.863532  13.931839   212.919286   48.667583   \n",
       "min      7.000000   0.000000   0.000000   0.000000     0.000000    0.000000   \n",
       "25%     18.500000  62.490000   0.500000   0.000000  1010.000000    9.000000   \n",
       "50%     30.000000  75.000000   8.600000   9.600000  1014.500000   13.000000   \n",
       "75%     53.000000  88.500000  16.150000  25.050000  1027.600000   21.500000   \n",
       "max    363.000000  94.000000  39.800000  39.800000  1040.900000  239.000000   \n",
       "\n",
       "             PM25        SO2  \n",
       "count   23.000000  23.000000  \n",
       "mean    50.130435   1.656522  \n",
       "std     76.661774   3.716649  \n",
       "min      0.000000   0.000000  \n",
       "25%     12.500000   0.000000  \n",
       "50%     26.000000   0.300000  \n",
       "75%     53.000000   1.500000  \n",
       "max    363.000000  17.200000  "
      ]
     },
     "metadata": {},
     "output_type": "display_data"
    }
   ],
   "source": [
    "print(\"\\nColumnns:\\n\" + str(clean_full_data.columns) + \"\\n\")\n",
    "print(\"Descriptive Stats:\\n\")\n",
    "display(clean_full_data.describe())"
   ]
  },
  {
   "cell_type": "markdown",
   "metadata": {},
   "source": [
    "<B> Summary of the Delhi PM 25 table </B>\n",
    "<P>\n",
    "The following provides the summary of the Delhi PM25 data\n",
    "</P>"
   ]
  },
  {
   "cell_type": "code",
   "execution_count": 23,
   "metadata": {},
   "outputs": [
    {
     "name": "stdout",
     "output_type": "stream",
     "text": [
      "\n",
      "Columnns:\n",
      "Index(['City', 'AQI', 'Labels', 'Time', 'H', 'NO2', 'O3', 'P', 'PM10', 'PM25',\n",
      "       'SO2'],\n",
      "      dtype='object')\n",
      "\n",
      "Descriptive Stats:\n",
      "\n"
     ]
    },
    {
     "data": {
      "text/html": [
       "<div>\n",
       "<style scoped>\n",
       "    .dataframe tbody tr th:only-of-type {\n",
       "        vertical-align: middle;\n",
       "    }\n",
       "\n",
       "    .dataframe tbody tr th {\n",
       "        vertical-align: top;\n",
       "    }\n",
       "\n",
       "    .dataframe thead th {\n",
       "        text-align: right;\n",
       "    }\n",
       "</style>\n",
       "<table border=\"1\" class=\"dataframe\">\n",
       "  <thead>\n",
       "    <tr style=\"text-align: right;\">\n",
       "      <th></th>\n",
       "      <th>PM25</th>\n",
       "    </tr>\n",
       "  </thead>\n",
       "  <tbody>\n",
       "    <tr>\n",
       "      <td>count</td>\n",
       "      <td>17.000000</td>\n",
       "    </tr>\n",
       "    <tr>\n",
       "      <td>mean</td>\n",
       "      <td>123.294118</td>\n",
       "    </tr>\n",
       "    <tr>\n",
       "      <td>std</td>\n",
       "      <td>29.976584</td>\n",
       "    </tr>\n",
       "    <tr>\n",
       "      <td>min</td>\n",
       "      <td>74.000000</td>\n",
       "    </tr>\n",
       "    <tr>\n",
       "      <td>25%</td>\n",
       "      <td>105.000000</td>\n",
       "    </tr>\n",
       "    <tr>\n",
       "      <td>50%</td>\n",
       "      <td>139.000000</td>\n",
       "    </tr>\n",
       "    <tr>\n",
       "      <td>75%</td>\n",
       "      <td>142.000000</td>\n",
       "    </tr>\n",
       "    <tr>\n",
       "      <td>max</td>\n",
       "      <td>165.000000</td>\n",
       "    </tr>\n",
       "  </tbody>\n",
       "</table>\n",
       "</div>"
      ],
      "text/plain": [
       "             PM25\n",
       "count   17.000000\n",
       "mean   123.294118\n",
       "std     29.976584\n",
       "min     74.000000\n",
       "25%    105.000000\n",
       "50%    139.000000\n",
       "75%    142.000000\n",
       "max    165.000000"
      ]
     },
     "metadata": {},
     "output_type": "display_data"
    }
   ],
   "source": [
    "print(\"\\nColumnns:\\n\" + str(full_data.columns) + \"\\n\")\n",
    "print(\"Descriptive Stats:\\n\")\n",
    "display(data_delhi.describe())"
   ]
  },
  {
   "cell_type": "markdown",
   "metadata": {},
   "source": [
    "### <U>GRAPHS</U>"
   ]
  },
  {
   "cell_type": "code",
   "execution_count": 24,
   "metadata": {},
   "outputs": [],
   "source": [
    "import matplotlib\n",
    "import matplotlib.pyplot as plt\n",
    "from matplotlib.pyplot import figure\n",
    "from pandas.plotting import scatter_matrix\n",
    "from matplotlib import cm\n",
    "%matplotlib inline"
   ]
  },
  {
   "cell_type": "markdown",
   "metadata": {},
   "source": [
    "The following function is to create a specific data frame from the entire data frame. This facilitates the creation of visualizations."
   ]
  },
  {
   "cell_type": "code",
   "execution_count": 25,
   "metadata": {},
   "outputs": [],
   "source": [
    "def select_columns(data_frame, column_names):\n",
    "    new_frame = data_frame.loc[:, column_names]\n",
    "    return new_frame"
   ]
  },
  {
   "cell_type": "markdown",
   "metadata": {},
   "source": [
    "The horizontal bar graph below shows the AQI of each of the city. From the very first glance, it can be noticed that now, Baicheng is having a very bad quality of the air. Whereas others are quite better. "
   ]
  },
  {
   "cell_type": "code",
   "execution_count": 26,
   "metadata": {},
   "outputs": [
    {
     "data": {
      "image/png": "[encoded data removed]",
      "text/plain": [
       "<Figure size 648x432 with 1 Axes>"
      ]
     },
     "metadata": {
      "needs_background": "light"
     },
     "output_type": "display_data"
    }
   ],
   "source": [
    "fig= plt.figure(figsize=(9,6))\n",
    "ax = fig.add_axes([0,0,1,1])\n",
    "City = clean_full_data[\"City\"].tolist()\n",
    "AQI = clean_full_data[\"AQI\"].tolist()\n",
    "ax.barh(City, AQI)\n",
    "plt.title('AQI in different Cities', fontsize=15)\n",
    "plt.xlabel(\"AQI\", fontsize=15)\n",
    "plt.ylabel(\"City\", fontsize=15)\n",
    "plt.show()"
   ]
  },
  {
   "cell_type": "markdown",
   "metadata": {},
   "source": [
    "<P>\n",
    "From the below stacked area chat, I wanted to analyse whether there is relation between PM10 and PM25 particles. Looking at the summary of the data, it is quite conclusive that PM25 majorly affects the AQI. I have concluded this though in the subsequent cells.\n",
    "    \n",
    "Looking at the graph, it can be somewhat said that they both exists but the proportion of PM25 in quite high than PM10.\n",
    "</P>"
   ]
  },
  {
   "cell_type": "code",
   "execution_count": 27,
   "metadata": {},
   "outputs": [
    {
     "data": {
      "text/plain": [
       "<matplotlib.axes._subplots.AxesSubplot at 0x1672d86c0b8>"
      ]
     },
     "execution_count": 27,
     "metadata": {},
     "output_type": "execute_result"
    },
    {
     "data": {
      "image/png": "[encoded data removed]",
      "text/plain": [
       "<Figure size 432x288 with 1 Axes>"
      ]
     },
     "metadata": {
      "needs_background": "light"
     },
     "output_type": "display_data"
    }
   ],
   "source": [
    "selected_columns = ['City', 'PM10', 'PM25']\n",
    "graph_data = select_columns(clean_full_data, selected_columns)\n",
    "graph_data.set_index('City')\n",
    "graph_data.plot.area(stacked=False)"
   ]
  },
  {
   "cell_type": "markdown",
   "metadata": {},
   "source": [
    "The below is a stacked bar graph, which shows the relation between PM25 and AQI. There are not many values in the range of approx. (200 to 550) but looking at the bars, its quite indicative that AQI is largely affected by PM25."
   ]
  },
  {
   "cell_type": "code",
   "execution_count": 28,
   "metadata": {
    "scrolled": true
   },
   "outputs": [
    {
     "data": {
      "text/plain": [
       "<matplotlib.axes._subplots.AxesSubplot at 0x1672d97b1d0>"
      ]
     },
     "execution_count": 28,
     "metadata": {},
     "output_type": "execute_result"
    },
    {
     "data": {
      "image/png": "[encoded data removed]",
      "text/plain": [
       "<Figure size 432x288 with 1 Axes>"
      ]
     },
     "metadata": {
      "needs_background": "light"
     },
     "output_type": "display_data"
    }
   ],
   "source": [
    "selected_columns = ['City', 'AQI', 'PM25']\n",
    "graph_data = select_columns(clean_full_data, selected_columns)\n",
    "graph_data.set_index('City')\n",
    "graph_data.plot.hist(stacked=True)"
   ]
  },
  {
   "cell_type": "markdown",
   "metadata": {},
   "source": [
    "As per some texts available online, O3 is largely affected by the AQI. Looking at the scatter plot below, a concrete conclusion can be made that, depending on the place, there are few places which at a lower AQI does not affect O3 neither helps in increasing the production of O3. But, at some places where the AQI, it helps in developing ozone (O3) which is natural protector that prevents UV rays from entering. "
   ]
  },
  {
   "cell_type": "code",
   "execution_count": 29,
   "metadata": {
    "scrolled": false
   },
   "outputs": [
    {
     "data": {
      "text/plain": [
       "<matplotlib.axes._subplots.AxesSubplot at 0x1672dc55160>"
      ]
     },
     "execution_count": 29,
     "metadata": {},
     "output_type": "execute_result"
    },
    {
     "data": {
      "image/png": "[encoded data removed]",
      "text/plain": [
       "<Figure size 432x288 with 1 Axes>"
      ]
     },
     "metadata": {
      "needs_background": "light"
     },
     "output_type": "display_data"
    }
   ],
   "source": [
    "selected_columns = ['City', 'AQI', 'O3']\n",
    "graph_data_1 = select_columns(clean_full_data, selected_columns)\n",
    "graph_data_1.set_index('City')\n",
    "\n",
    "graph_data_1.plot.scatter(x=\"AQI\", y=\"O3\", s=50, c='coral' )"
   ]
  },
  {
   "cell_type": "markdown",
   "metadata": {},
   "source": [
    "The graph below shows the probability density of gases with respect to each other. O3 and H have a very high distribution with respect to SO2 at lower levels."
   ]
  },
  {
   "cell_type": "code",
   "execution_count": 30,
   "metadata": {
    "scrolled": false
   },
   "outputs": [
    {
     "data": {
      "text/plain": [
       "array([[<matplotlib.axes._subplots.AxesSubplot object at 0x000001672DC67940>,\n",
       "        <matplotlib.axes._subplots.AxesSubplot object at 0x000001672ECE6C50>,\n",
       "        <matplotlib.axes._subplots.AxesSubplot object at 0x000001672ED18EB8>,\n",
       "        <matplotlib.axes._subplots.AxesSubplot object at 0x000001672ED5A160>,\n",
       "        <matplotlib.axes._subplots.AxesSubplot object at 0x000001672ED8E3C8>],\n",
       "       [<matplotlib.axes._subplots.AxesSubplot object at 0x000001672EDC3630>,\n",
       "        <matplotlib.axes._subplots.AxesSubplot object at 0x000001672EDF6898>,\n",
       "        <matplotlib.axes._subplots.AxesSubplot object at 0x000001672EE2DAC8>,\n",
       "        <matplotlib.axes._subplots.AxesSubplot object at 0x000001672EE2DB38>,\n",
       "        <matplotlib.axes._subplots.AxesSubplot object at 0x000001672EE95FD0>],\n",
       "       [<matplotlib.axes._subplots.AxesSubplot object at 0x000001672EED5278>,\n",
       "        <matplotlib.axes._subplots.AxesSubplot object at 0x000001672EF074E0>,\n",
       "        <matplotlib.axes._subplots.AxesSubplot object at 0x000001672EF3E748>,\n",
       "        <matplotlib.axes._subplots.AxesSubplot object at 0x000001672EF719B0>,\n",
       "        <matplotlib.axes._subplots.AxesSubplot object at 0x000001672EFA7C18>],\n",
       "       [<matplotlib.axes._subplots.AxesSubplot object at 0x000001672EFDCE80>,\n",
       "        <matplotlib.axes._subplots.AxesSubplot object at 0x000001672F01A128>,\n",
       "        <matplotlib.axes._subplots.AxesSubplot object at 0x000001672F04D390>,\n",
       "        <matplotlib.axes._subplots.AxesSubplot object at 0x000001672F0835F8>,\n",
       "        <matplotlib.axes._subplots.AxesSubplot object at 0x000001672F0B9748>],\n",
       "       [<matplotlib.axes._subplots.AxesSubplot object at 0x000001672F0EAAC8>,\n",
       "        <matplotlib.axes._subplots.AxesSubplot object at 0x000001672F11EE48>,\n",
       "        <matplotlib.axes._subplots.AxesSubplot object at 0x000001672F15D208>,\n",
       "        <matplotlib.axes._subplots.AxesSubplot object at 0x000001672F18E588>,\n",
       "        <matplotlib.axes._subplots.AxesSubplot object at 0x000001672F1C0908>]],\n",
       "      dtype=object)"
      ]
     },
     "execution_count": 30,
     "metadata": {},
     "output_type": "execute_result"
    },
    {
     "data": {
      "image/png": "[encoded data removed]",
      "text/plain": [
       "<Figure size 720x720 with 25 Axes>"
      ]
     },
     "metadata": {
      "needs_background": "light"
     },
     "output_type": "display_data"
    }
   ],
   "source": [
    "#KDE is a non-parametric way to estimate the probability density function of any variable we wish to view.\n",
    "\n",
    "selected_columns = ['City', 'H', 'NO2', 'O3', 'P', 'SO2']\n",
    "graph_data = select_columns(clean_full_data, selected_columns)\n",
    "graph_data.set_index('City')\n",
    "\n",
    "cmap = cm.get_cmap('gnuplot')\n",
    "scatter_matrix(graph_data, alpha=1, figsize=(10, 10), diagonal='kde', cmap=cmap)"
   ]
  },
  {
   "cell_type": "markdown",
   "metadata": {},
   "source": [
    "<P>\n",
    "The below are the line graphs of composition of different gasses across different cities. I wanted to conclude my point of not taking an average of the gases using this plot. \n",
    "\n",
    "As it can be seen from SO2, most of the cities on API call didn’t gave back the value for SO2. If an average of the available values would have been taken the composition of SO2 could have affected the summary and subsequent analysis. \n",
    "\n",
    "To a surprise, P is a major contributor in the AQI. It is present in a high ratio across all cities. The presence of NO2 is less overall in different cities. H and O3 show a varying trend. \n",
    "</P>"
   ]
  },
  {
   "cell_type": "code",
   "execution_count": 31,
   "metadata": {
    "scrolled": false
   },
   "outputs": [
    {
     "data": {
      "image/png": "[encoded data removed]",
      "text/plain": [
       "<Figure size 720x720 with 5 Axes>"
      ]
     },
     "metadata": {
      "needs_background": "light"
     },
     "output_type": "display_data"
    }
   ],
   "source": [
    "selected_columns = ['City', 'H', 'NO2', 'O3', 'P', 'SO2']\n",
    "graph_data = select_columns(clean_full_data, selected_columns)\n",
    "graph_data.set_index('City')\n",
    "ax = graph_data.plot(subplots=True, figsize=(10, 10));\n"
   ]
  },
  {
   "cell_type": "markdown",
   "metadata": {},
   "source": [
    "<P>\n",
    "The labels that I defined initially in my table are used to show the percentile of air quality condition the cities are in. Pie chart is quite useful and an effective graph in such scenarios.\n",
    "</P>"
   ]
  },
  {
   "cell_type": "code",
   "execution_count": 32,
   "metadata": {
    "scrolled": true
   },
   "outputs": [
    {
     "data": {
      "image/png": "[encoded data removed]",
      "text/plain": [
       "<Figure size 432x432 with 1 Axes>"
      ]
     },
     "metadata": {},
     "output_type": "display_data"
    }
   ],
   "source": [
    "selected_columns = ['City', 'Labels']\n",
    "graph_data = select_columns(clean_full_data, selected_columns)\n",
    "graph_data.set_index('City')\n",
    "\n",
    "label_counts = graph_data[\"Labels\"].value_counts()\n",
    "p = label_counts.plot(kind=\"pie\", figsize=(6, 6), fontsize=14, autopct=\"%.1f%%\")\n",
    "p.set_ylabel(None);"
   ]
  },
  {
   "cell_type": "markdown",
   "metadata": {},
   "source": [
    "## Final Manipulation, Exploration and Visualisation¶"
   ]
  },
  {
   "cell_type": "markdown",
   "metadata": {},
   "source": [
    "<P>\n",
    "In my conclusion, I chose to show the variation of PM25 with AQI and PM10 with AQI as from the above graphs, I could collect PM25 is majorly responsible to high changes in the AQI but, some concrete evidence is required. \n",
    "\n",
    "I have used a dual axis graph on which one side is AQI and the other has PM25, the cities are displayed on the x-axis.\n",
    "\n",
    "Looking at the graph, it can be concluded that, PM25 is major contributor in changing the AQI across different cities.  More the PM25 particles suspended in the air, higher is the AQI. Both the lines are following almost a same trend.\n",
    "\n",
    "Referring to the AQI and PM10, they are not very closely related to each other. Though, they PM10 contributes to AQI but, is not major as PM25.\n",
    "</P>"
   ]
  },
  {
   "cell_type": "code",
   "execution_count": 33,
   "metadata": {
    "scrolled": false
   },
   "outputs": [
    {
     "data": {
      "image/png": "[encoded data removed]",
      "text/plain": [
       "<Figure size 432x288 with 2 Axes>"
      ]
     },
     "metadata": {
      "needs_background": "light"
     },
     "output_type": "display_data"
    },
    {
     "data": {
      "image/png": "[encoded data removed]",
      "text/plain": [
       "<Figure size 432x288 with 2 Axes>"
      ]
     },
     "metadata": {
      "needs_background": "light"
     },
     "output_type": "display_data"
    }
   ],
   "source": [
    "selected_columns = ['City', 'AQI', 'PM25']\n",
    "graph_data_1 = select_columns(clean_full_data, selected_columns)\n",
    "graph_data_1.set_index('City')\n",
    "\n",
    "selected_columns_2 = ['City', 'AQI', 'PM10']\n",
    "graph_data_2 = select_columns(clean_full_data, selected_columns_2)\n",
    "graph_data_2.set_index('City')\n",
    "\n",
    "ax = graph_data_1.plot(secondary_y=['PM25'])\n",
    "ax.set_ylabel(\"AQI\")\n",
    "ax.set_xlabel(\"City\")\n",
    "ax.right_ax.set_ylabel(\"PM25\")\n",
    "plt.title(\"AQI and PM25\")\n",
    "plt.show()\n",
    "\n",
    "ax = graph_data_2.plot(secondary_y=['PM10'])\n",
    "ax.set_ylabel(\"AQI\")\n",
    "ax.right_ax.set_ylabel(\"PM10\")\n",
    "ax.set_xlabel(\"City\")\n",
    "plt.title(\"AQI and PM10\")\n",
    "plt.show()"
   ]
  },
  {
   "cell_type": "markdown",
   "metadata": {},
   "source": [
    "<P>\n",
    "Before, I present final words for the notebook.\n",
    "    \n",
    "I want to take a moment to show an interesting fact about the data I collected over 17 days. \n",
    "\n",
    "As I mentioned earlier, I have been collection data for only Delhi and PM25. As we all are aware about the current situation of CONVID-19, the governments across globe are imposing lockdowns. This lockdown has led an entire stop to the industries, factories and major sources that are responsible for air pollution.\n",
    "\n",
    "I have provided a line graph (trend graph) below of the PM25 value in Delhi. As, I mentioned about AQI in my previous discussion, that it majorly affected by PM25, it can be applied to this graph.\n",
    "\n",
    "Initially on the March 14 as it can be seen, the AQI index is low but suddenly experienced a spike. Delhi, India, went on a lockdown on March 24, 2020 thus, the immediate effect of lockdown can be seen on the PM25 values. It has been declining, i.e. the nature has started recovering. \n",
    "\n",
    "My point here is that, we as humans have taken the nature for granted and thus, AQI has gone bad. Just when we stopped everything, the nature got a moment to revive and get better. If I have to conclude on this fact, I will definitely say, nature is a precious element and must not be taken for granted.\n",
    "</P>"
   ]
  },
  {
   "cell_type": "code",
   "execution_count": 34,
   "metadata": {
    "scrolled": false
   },
   "outputs": [
    {
     "data": {
      "image/png": "[encoded data removed]",
      "text/plain": [
       "<Figure size 720x360 with 1 Axes>"
      ]
     },
     "metadata": {
      "needs_background": "light"
     },
     "output_type": "display_data"
    }
   ],
   "source": [
    "fig= plt.figure(figsize=(10,5))\n",
    "ax = fig.add_axes([0,0,1,1])\n",
    "Time = data_delhi[\"Date\"].tolist()\n",
    "PM25 = data_delhi[\"PM25\"].tolist()\n",
    "ax.plot(Time, PM25)\n",
    "plt.xticks(rotation=70)\n",
    "plt.title('PM25 level in Delhi', fontsize=15)\n",
    "plt.xlabel(\"Date\", fontsize=15)\n",
    "plt.ylabel(\"PM25\", fontsize=15)\n",
    "plt.show()"
   ]
  },
  {
   "cell_type": "markdown",
   "metadata": {},
   "source": [
    "## Final Thoughts"
   ]
  },
  {
   "cell_type": "markdown",
   "metadata": {},
   "source": [
    "<P>\n",
    "As per the current notebook and available data, I can conclude that PM25 particles are a major contributor in increasing the AQI values. Other gases are also responsible such a H, NO2, SO2. In fact, P has high composition as compared to other gases. Further improvements can be done to this by incorporating the weather data and look how these gases act according to different weather conditions.\n",
    "\n",
    "<I>In a nutshell, the fine (PM10 and PM25) particles suspended in air fluctuates the AQI values.</I>\n",
    "</P>"
   ]
  }
 ],
 "metadata": {
  "kernelspec": {
   "display_name": "Python 3",
   "language": "python",
   "name": "python3"
  },
  "language_info": {
   "codemirror_mode": {
    "name": "ipython",
    "version": 3
   },
   "file_extension": ".py",
   "mimetype": "text/x-python",
   "name": "python",
   "nbconvert_exporter": "python",
   "pygments_lexer": "ipython3",
   "version": "3.7.3"
  }
 },
 "nbformat": 4,
 "nbformat_minor": 2
}
